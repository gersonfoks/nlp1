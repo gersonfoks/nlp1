{
 "cells": [
  {
   "cell_type": "markdown",
   "metadata": {
    "id": "lIZrAUx57vsM"
   },
   "source": [
    "Practical 1: Sentiment Detection in Movie Reviews\n",
    "========================================\n",
    "\n"
   ]
  },
  {
   "cell_type": "markdown",
   "metadata": {
    "id": "J4kXPMhyngZW"
   },
   "source": [
    "This practical concerns detecting sentiment in movie reviews. This is a typical NLP classification task.\n",
    "In [this file](https://gist.githubusercontent.com/bastings/d47423301cca214e3930061a5a75e177/raw/5113687382919e22b1f09ce71a8fecd1687a5760/reviews.json) (80MB) you will find 1000 positive and 1000 negative **movie reviews**.\n",
    "Each review is a **document** and consists of one or more sentences.\n",
    "\n",
    "To prepare yourself for this practical, you should\n",
    "have a look at a few of these texts to understand the difficulties of\n",
    "the task: how might one go about classifying the texts? You will write\n",
    "code that decides whether a movie review conveys positive or\n",
    "negative sentiment.\n",
    "\n",
    "Please make sure you have read the following paper:\n",
    "\n",
    ">   Bo Pang, Lillian Lee, and Shivakumar Vaithyanathan\n",
    "(2002). \n",
    "[Thumbs up? Sentiment Classification using Machine Learning\n",
    "Techniques](https://dl.acm.org/citation.cfm?id=1118704). EMNLP.\n",
    "\n",
    "Bo Pang et al. were the \"inventors\" of the movie review sentiment\n",
    "classification task, and the above paper was one of the first papers on\n",
    "the topic. The first version of your sentiment classifier will do\n",
    "something similar to Pang et al.'s system. If you have questions about it,\n",
    "you should resolve as soon as possible with your TA.\n"
   ]
  },
  {
   "cell_type": "markdown",
   "metadata": {
    "id": "cb7errgRASzZ"
   },
   "source": [
    "**Advice**\n",
    "\n",
    "Please read through the entire practical and familiarise\n",
    "yourself with all requirements before you start coding or otherwise\n",
    "solving the tasks. Writing clean and concise code can make the difference\n",
    "between solving the assignment in a matter of hours, and taking days to\n",
    "run all experiments.\n",
    "\n",
    "## Environment\n",
    "\n",
    "All code should be written in **Python 3**. \n",
    "This is the default in Google Colab."
   ]
  },
  {
   "cell_type": "code",
   "execution_count": 1,
   "metadata": {
    "id": "SaZnxptMJiD7"
   },
   "outputs": [
    {
     "name": "stdout",
     "output_type": "stream",
     "text": [
      "Python 3.7.9\n"
     ]
    }
   ],
   "source": [
    "!python --version"
   ]
  },
  {
   "cell_type": "markdown",
   "metadata": {
    "id": "BYZyIF7lJnGn"
   },
   "source": [
    "If you want to run code on your own computer, then download this notebook through `File -> Download .ipynb`.\n",
    "The easiest way to\n",
    "install Python is through downloading\n",
    "[Anaconda](https://www.anaconda.com/download). \n",
    "After installation, you can start the notebook by typing `jupyter notebook filename.ipynb`.\n",
    "You can also use an IDE\n",
    "such as [PyCharm](https://www.jetbrains.com/pycharm/download/) to make\n",
    "coding and debugging easier. It is good practice to create a [virtual\n",
    "environment](https://docs.python.org/3/tutorial/venv.html) for this\n",
    "project, so that any Python packages don’t interfere with other\n",
    "projects. \n",
    " \n",
    "\n",
    "**Learning Python 3**\n",
    "\n",
    "If you are new to Python 3, you may want to check out a few of these resources:\n",
    "- https://learnxinyminutes.com/docs/python3/\n",
    "- https://www.learnpython.org/\n",
    "- https://docs.python.org/3/tutorial/"
   ]
  },
  {
   "cell_type": "code",
   "execution_count": 2,
   "metadata": {
    "id": "hok-BFu9lGoK"
   },
   "outputs": [],
   "source": [
    "import math\n",
    "import os\n",
    "import sys\n",
    "from subprocess import call\n",
    "from nltk import FreqDist\n",
    "from nltk.util import ngrams\n",
    "from nltk.stem.porter import PorterStemmer\n",
    "import sklearn as sk\n",
    "import pickle\n",
    "import json\n",
    "from collections import Counter\n",
    "import requests\n",
    "import matplotlib.pyplot as plt\n",
    "import numpy as np"
   ]
  },
  {
   "cell_type": "markdown",
   "metadata": {
    "id": "bXWyGHwE-ieQ"
   },
   "source": [
    "## Loading the data\n",
    "\n",
    "**Download the sentiment lexicon and the movie reviews dataset.**"
   ]
  },
  {
   "cell_type": "code",
   "execution_count": 3,
   "metadata": {},
   "outputs": [
    {
     "data": {
      "text/plain": [
       "('sent_lexicon', <http.client.HTTPMessage at 0x2797e0e4488>)"
      ]
     },
     "execution_count": 3,
     "metadata": {},
     "output_type": "execute_result"
    }
   ],
   "source": [
    "import urllib.request\n",
    "url = 'https://gist.githubusercontent.com/bastings/d6f99dcb6c82231b94b013031356ba05/raw/f80a0281eba8621b122012c89c8b5e2200b39fd6'\n",
    "filename = 'sent_lexicon'\n",
    "urllib.request.urlretrieve(url, filename)"
   ]
  },
  {
   "cell_type": "code",
   "execution_count": 4,
   "metadata": {},
   "outputs": [
    {
     "data": {
      "text/plain": [
       "('reviews.json', <http.client.HTTPMessage at 0x2797e0e4dc8>)"
      ]
     },
     "execution_count": 4,
     "metadata": {},
     "output_type": "execute_result"
    }
   ],
   "source": [
    "url = 'https://gist.githubusercontent.com/bastings/d47423301cca214e3930061a5a75e177/raw/5113687382919e22b1f09ce71a8fecd1687a5760'\n",
    "filename = 'reviews.json'\n",
    "urllib.request.urlretrieve(url, filename)"
   ]
  },
  {
   "cell_type": "code",
   "execution_count": 5,
   "metadata": {
    "id": "lm-rakqtlMOT"
   },
   "outputs": [
    {
     "name": "stderr",
     "output_type": "stream",
     "text": [
      "'wget' is not recognized as an internal or external command,\n",
      "operable program or batch file.\n",
      "'wget' is not recognized as an internal or external command,\n",
      "operable program or batch file.\n"
     ]
    }
   ],
   "source": [
    "# download sentiment lexicon\n",
    "!wget https://gist.githubusercontent.com/bastings/d6f99dcb6c82231b94b013031356ba05/raw/f80a0281eba8621b122012c89c8b5e2200b39fd6/sent_lexicon\n",
    "# download review data\n",
    "!wget https://gist.githubusercontent.com/bastings/d47423301cca214e3930061a5a75e177/raw/5113687382919e22b1f09ce71a8fecd1687a5760/reviews.json"
   ]
  },
  {
   "cell_type": "markdown",
   "metadata": {
    "id": "AkPwuHp5LSuQ"
   },
   "source": [
    "**Load the movie reviews.**\n",
    "\n",
    "Each word in a review comes with its part-of-speech tag. For documentation on POS-tags, see https://catalog.ldc.upenn.edu/docs/LDC99T42/tagguid1.pdf.\n"
   ]
  },
  {
   "cell_type": "code",
   "execution_count": 6,
   "metadata": {
    "id": "careEKj-mRpl"
   },
   "outputs": [
    {
     "name": "stdout",
     "output_type": "stream",
     "text": [
      "Total number of reviews: 2000 \n",
      "\n",
      "0 NEG 29\n",
      "Two/CD teen/JJ couples/NNS go/VBP to/TO a/DT church/NN party/NN ,/, drink/NN and/CC then/RB drive/NN ./.\n",
      "1 NEG 11\n",
      "Damn/JJ that/IN Y2K/CD bug/NN ./.\n",
      "2 NEG 24\n",
      "It/PRP is/VBZ movies/NNS like/IN these/DT that/WDT make/VBP a/DT jaded/JJ movie/NN viewer/NN thankful/JJ for/IN the/DT invention/NN of/IN the/DT Timex/NNP IndiGlo/NNP watch/NN ./.\n",
      "3 NEG 19\n",
      "QUEST/NN FOR/IN CAMELOT/NNP ``/`` Quest/NNP for/IN Camelot/NNP ''/'' is/VBZ Warner/NNP Bros./NNP '/POS first/JJ feature-length/JJ ,/, fully-animated/JJ attempt/NN to/TO steal/VB clout/NN from/IN Disney/NNP 's/POS cartoon/NN empire/NN ,/, but/CC the/DT mouse/NN has/VBZ no/DT reason/NN to/TO be/VB worried/VBN ./.\n",
      "4 NEG 38\n",
      "Synopsis/NNPS :/: A/DT mentally/RB unstable/JJ man/NN undergoing/VBG psychotherapy/NN saves/VBZ a/DT boy/NN from/IN a/DT potentially/RB fatal/JJ accident/NN and/CC then/RB falls/VBZ in/IN love/NN with/IN the/DT boy/NN 's/POS mother/NN ,/, a/DT fledgling/NN restauranteur/NN ./.\n",
      "\n",
      "Number of word types: 47743\n",
      "Number of word tokens: 1512359\n",
      "\n",
      "Most common tokens:\n",
      "         , :    77842\n",
      "       the :    75948\n",
      "         . :    59027\n",
      "         a :    37583\n",
      "       and :    35235\n",
      "        of :    33864\n",
      "        to :    31601\n",
      "        is :    25972\n",
      "        in :    21563\n",
      "        's :    18043\n",
      "        it :    15904\n",
      "      that :    15820\n",
      "     -rrb- :    11768\n",
      "     -lrb- :    11670\n",
      "        as :    11312\n",
      "      with :    10739\n",
      "       for :     9816\n",
      "       his :     9542\n",
      "      this :     9497\n",
      "      film :     9404\n"
     ]
    }
   ],
   "source": [
    "# file structure:\n",
    "# [\n",
    "#  {\"cv\": integer, \"sentiment\": str, \"content\": list} \n",
    "#  {\"cv\": integer, \"sentiment\": str, \"content\": list} \n",
    "#   ..\n",
    "# ]\n",
    "# where `content` is a list of sentences, \n",
    "# with a sentence being a list of (token, pos_tag) pairs.\n",
    "\n",
    "\n",
    "with open(\"reviews.json\", mode=\"r\", encoding=\"utf-8\") as f:\n",
    "  reviews = json.load(f)\n",
    "  \n",
    "print(\"Total number of reviews:\", len(reviews), '\\n')\n",
    "\n",
    "def print_sentence_with_pos(s):\n",
    "  print(\" \".join(\"%s/%s\" % (token, pos_tag) for token, pos_tag in s))\n",
    "\n",
    "for i, r in enumerate(reviews):\n",
    "  print(r[\"cv\"], r[\"sentiment\"], len(r[\"content\"]))  # cv, sentiment, num sents\n",
    "  print_sentence_with_pos(r[\"content\"][0])\n",
    "  if i == 4: \n",
    "    break\n",
    "    \n",
    "c = Counter()\n",
    "for review in reviews:\n",
    "  for sentence in review[\"content\"]:\n",
    "    for token, pos_tag in sentence:\n",
    "      c[token.lower()] += 1\n",
    "      \n",
    "print(\"\\nNumber of word types:\", len(c))\n",
    "print(\"Number of word tokens:\", sum(c.values()))\n",
    "\n",
    "print(\"\\nMost common tokens:\")\n",
    "for token, count in c.most_common(20):\n",
    "  print(\"%10s : %8d\" % (token, count))\n",
    "  "
   ]
  },
  {
   "cell_type": "markdown",
   "metadata": {
    "id": "E6PWaEoh8B34"
   },
   "source": [
    "# Lexicon-based approach (2+1pts)\n",
    "\n"
   ]
  },
  {
   "cell_type": "markdown",
   "metadata": {
    "id": "JsTSMb6ma4E8"
   },
   "source": [
    "A traditional approach to automatically classify documents according to their sentiment is the lexicon-based approach. To implement this approach, you need a **sentiment lexicon**, i.e., a list of words annotated with a sentiment label (e.g., positive and negative) or a sentiment score (e.g., a score from 0 to 5).\n",
    "\n",
    "In this practical, you will use the sentiment\n",
    "lexicon released by Wilson et al. (2005). The path of the loaded lexicon is `\"sent_lexicon\"`.\n",
    "\n",
    "> Theresa Wilson, Janyce Wiebe, and Paul Hoffmann\n",
    "(2005). [Recognizing Contextual Polarity in Phrase-Level Sentiment\n",
    "Analysis](http://www.aclweb.org/anthology/H/H05/H05-1044.pdf). HLT-EMNLP.\n",
    "\n",
    "Pay attention to all the information available in the sentiment lexicon. The field *word1* contains the lemma, *priorpolarity* contains the sentiment label (positive, negative, both, or neutral), *type* gives you the magnitude of the word's sentiment (strong or weak), and *pos1* gives you the part-of-speech tag of the lemma. Some lemmas can have multiple part-of-speech tags and thus multiple entries in the lexicon.\n"
   ]
  },
  {
   "cell_type": "markdown",
   "metadata": {
    "id": "MCHUMmb0SZxy"
   },
   "source": [
    "Pay attention to all the information available in the sentiment lexicon. The field *word1* contains the lemma, *priorpolarity* contains the sentiment label (positive, negative, both, or neutral), *type* gives you the magnitude of the word's sentiment (strong or weak), and *pos1* gives you the part-of-speech tag of the lemma. Some lemmas can have multiple part-of-speech tags and thus multiple entries in the lexicon."
   ]
  },
  {
   "cell_type": "code",
   "execution_count": 7,
   "metadata": {
    "id": "Ogq0Eq2hQglh"
   },
   "outputs": [
    {
     "name": "stdout",
     "output_type": "stream",
     "text": [
      "type=weaksubj len=1 word1=abandoned pos1=adj stemmed1=n priorpolarity=negative\n",
      "type=weaksubj len=1 word1=abandonment pos1=noun stemmed1=n priorpolarity=negative\n",
      "type=weaksubj len=1 word1=abandon pos1=verb stemmed1=y priorpolarity=negative\n",
      "type=strongsubj len=1 word1=abase pos1=verb stemmed1=y priorpolarity=negative\n",
      "type=strongsubj len=1 word1=abasement pos1=anypos stemmed1=y priorpolarity=negative\n",
      "type=strongsubj len=1 word1=abash pos1=verb stemmed1=y priorpolarity=negative\n",
      "type=weaksubj len=1 word1=abate pos1=verb stemmed1=y priorpolarity=negative\n",
      "type=weaksubj len=1 word1=abdicate pos1=verb stemmed1=y priorpolarity=negative\n",
      "type=strongsubj len=1 word1=aberration pos1=adj stemmed1=n priorpolarity=negative\n",
      "type=strongsubj len=1 word1=aberration pos1=noun stemmed1=n priorpolarity=negative\n",
      "type=strongsubj len=1 word1=abhor pos1=anypos stemmed1=y priorpolarity=negative\n"
     ]
    }
   ],
   "source": [
    "with open(\"sent_lexicon\", mode=\"r\", encoding=\"utf-8\") as f:\n",
    "  line_cnt = 0\n",
    "  for line in f:\n",
    "    print(line.strip())\n",
    "    line_cnt += 1\n",
    "    if line_cnt > 10:\n",
    "      break"
   ]
  },
  {
   "cell_type": "markdown",
   "metadata": {
    "id": "Mml4nOtIUBhn"
   },
   "source": [
    "Given such a sentiment lexicon, there are ways to solve\n",
    "the classification task without using Machine Learning. For example, one might look up every word $w_1 ... w_n$ in a document, and compute a **binary score**\n",
    "$S_{binary}$ by counting how many words have a positive or a\n",
    "negative label in the sentiment lexicon $SLex$.\n",
    "\n",
    "$$S_{binary}(w_1 w_2 ... w_n) = \\sum_{i = 1}^{n}\\text{sign}(SLex\\big[w_i\\big])$$\n",
    "\n",
    "where $\\text{sign}(SLex\\big[w_i\\big])$ refers to the polarity of $w_i$.\n",
    "\n",
    "**Threshold.** On average, there are more positive than negative words per review (~7.13 more positive than negative per review) to take this bias into account you should use a threshold of **8** (roughly the bias itself) to make it harder to classify as positive.\n",
    "\n",
    "$$\n",
    "\\text{classify}(S_{binary}(w_1 w_2 ... w_n)) = \\bigg\\{\\begin{array}{ll}\n",
    "        \\text{positive} & \\text{if } S_{binary}(w_1w_2...w_n) > threshold\\\\\n",
    "        \\text{negative} & \\text{otherwise}\n",
    "        \\end{array}\n",
    "$$\n"
   ]
  },
  {
   "cell_type": "markdown",
   "metadata": {
    "id": "tOFnMvbeeZrc"
   },
   "source": [
    "#### (Q1.1) Implement this approach and report its classification accuracy. (1 pt)"
   ]
  },
  {
   "cell_type": "code",
   "execution_count": 8,
   "metadata": {},
   "outputs": [],
   "source": [
    "### First we create the dataset in a nice format\n",
    "def create_whole_review(content):\n",
    "    whole_review = []\n",
    "    for sentence in content:\n",
    "        whole_review += [word.lower() for word in np.array(sentence)[:, 0]]\n",
    "    \n",
    "    return whole_review\n",
    "\n",
    "def create_dataset(reviews):\n",
    "    targets = []\n",
    "    sentences = []\n",
    "    for review in reviews:\n",
    "        targets.append(int( review['sentiment'] == 'POS'))\n",
    "        \n",
    "        whole_review = create_whole_review(review['content'])\n",
    "        sentences.append(whole_review)\n",
    "    return sentences, targets\n",
    "\n",
    "sentences, targets = create_dataset(reviews)\n"
   ]
  },
  {
   "cell_type": "code",
   "execution_count": 9,
   "metadata": {
    "id": "ED2aTEYutW1-"
   },
   "outputs": [],
   "source": [
    "### Load the lexixon in a default dict\n",
    "from collections import defaultdict\n",
    "\n",
    "\n",
    "sentiments = {\n",
    "    'positive': 1,\n",
    "    'negative': -1,\n",
    "    'both': 0,\n",
    "    'neutral': 0\n",
    "}\n",
    "\n",
    "def get_slex(ref=\"sent_lexicon\"):\n",
    "    '''\n",
    "    ref: reference of the file \n",
    "    returns: Defaultdictionary{word:  sentiment score} \n",
    "    \n",
    "    '''\n",
    "    \n",
    "    slex = defaultdict(float)\n",
    "    \n",
    "    ## indexes\n",
    "    key_index = 2\n",
    "    key_strip = \"word1=\"\n",
    "    value_index = 5\n",
    "    value_strip = \"priorpolarity=\"\n",
    "    \n",
    "    magnitude_index = 0\n",
    "    magnitude_strip = \"type=\"\n",
    "    \n",
    "    magnitude_choices = defaultdict(float, {\n",
    "        \"weaksubj\": 1.0,\n",
    "        \"strongsubj\": 2.0\n",
    "    })\n",
    "    \n",
    "    with open(\"sent_lexicon\", mode=\"r\", encoding=\"utf-8\") as f:\n",
    "        \n",
    "        line_cnt = 0\n",
    "        for line in f:\n",
    "            line_cnt += 1\n",
    "            line_arr = line.split()\n",
    "            magnitude = magnitude_choices[ line_arr[magnitude_index].replace(magnitude_strip, \"\")]\n",
    "            sentiment = sentiments[line_arr[value_index].replace(value_strip, \"\")]\n",
    "            slex[line_arr[key_index].replace(key_strip, \"\")] =  magnitude * sentiment\n",
    "    return slex\n",
    "\n",
    "\n",
    "    \n",
    "slex = get_slex()\n",
    "\n",
    "\n",
    "\n",
    "class BinarySentimentClassifier:\n",
    "    \n",
    "    def __init__(self, slex, threshold):\n",
    "        self.slex = slex\n",
    "        self.threshold = threshold\n",
    "\n",
    "    def predict(self, sentences):\n",
    "        return [int( self.binary_sentiment(sentence) > self.threshold) for sentence in sentences ]\n",
    "    \n",
    "    def binary_sentiment(self, sentence):\n",
    "        '''\n",
    "        sentence: sentence to calculate the sentiment from\n",
    "        returns the binary sentiment score of a sentence given the sentiment lexicon\n",
    "        '''\n",
    "\n",
    "        return np.sum([ np.sign( self.slex[word])   for word in sentence])\n",
    "\n",
    "\n",
    "\n",
    "# Create the classifier:\n",
    "bin_sent_model = BinarySentimentClassifier(slex, 8)\n",
    "\n",
    "predictions = bin_sent_model.predict(sentences)\n",
    "\n",
    "\n"
   ]
  },
  {
   "cell_type": "code",
   "execution_count": 10,
   "metadata": {},
   "outputs": [
    {
     "name": "stdout",
     "output_type": "stream",
     "text": [
      "[0 1 1 ... 0 1 1]\n"
     ]
    }
   ],
   "source": [
    "print( (np.array(predictions) == np.array(targets)).astype(int)) \n",
    "\n",
    "def calculate_results(predictions, targets):\n",
    "    return np.array(predictions) == np.array(targets)\n",
    "\n",
    "def calculate_accuracy(predictions, targets):\n",
    "    return np.sum(calculate_results(predictions, targets)) / len(targets)"
   ]
  },
  {
   "cell_type": "code",
   "execution_count": 11,
   "metadata": {
    "id": "iy528EUTphz5"
   },
   "outputs": [
    {
     "name": "stdout",
     "output_type": "stream",
     "text": [
      "Accuracy: 0.68\n"
     ]
    }
   ],
   "source": [
    "# token_results should be a list of binary indicators; for example [1, 0, 1, ...] \n",
    "# where 1 indicates a correct classification and 0 an incorrect classification.\n",
    "token_results = calculate_results(predictions, targets)\n",
    "token_accuracy = calculate_accuracy(predictions, targets)\n",
    "print(\"Accuracy: %0.2f\" % token_accuracy)"
   ]
  },
  {
   "cell_type": "markdown",
   "metadata": {
    "id": "Twox0s_3eS0V"
   },
   "source": [
    "As the sentiment lexicon also has information about the **magnitude** of\n",
    "sentiment (e.g., *“excellent\"* would have higher magnitude than\n",
    "*“good\"*), we can take a more fine-grained approach by adding up all\n",
    "sentiment scores, and deciding the polarity of the movie review using\n",
    "the sign of the weighted score $S_{weighted}$.\n",
    "\n",
    "$$S_{weighted}(w_1w_2...w_n) = \\sum_{i = 1}^{n}SLex\\big[w_i\\big]$$\n",
    "\n",
    "\n",
    "Make sure you define an appropriate threshold for this approach.\n",
    "\n",
    "#### (Q1.2) Now incorporate magnitude information and report the classification accuracy. Don't forget to use the threshold. (1 pt)"
   ]
  },
  {
   "cell_type": "code",
   "execution_count": 12,
   "metadata": {},
   "outputs": [
    {
     "name": "stdout",
     "output_type": "stream",
     "text": [
      "10.8195\n"
     ]
    }
   ],
   "source": [
    "### The calculate the bias we calculate avarage the sentiment of each review. \n",
    "avg = 0\n",
    "total = 0\n",
    "for sentence in sentences:\n",
    "    total += np.sum([ slex[word]   for word in sentence])\n",
    "avg = total / len(sentences)\n",
    "print(avg)"
   ]
  },
  {
   "cell_type": "code",
   "execution_count": 13,
   "metadata": {
    "id": "qG3hUDnPtkhS"
   },
   "outputs": [],
   "source": [
    "\n",
    "class MagnitudeClassifier:\n",
    "    \n",
    "    def __init__(self, slex, threshold):\n",
    "        self.slex = slex\n",
    "        self.threshold = threshold\n",
    "\n",
    "    def predict(self, sentences):\n",
    "        return [int( self.binary_sentiment(sentence) > self.threshold) for sentence in sentences ]\n",
    "    \n",
    "    def binary_sentiment(self, sentence):\n",
    "        '''\n",
    "        sentence: sentence to calculate the sentiment from\n",
    "        returns the binary sentiment score of a sentence given the sentiment lexicon\n",
    "        '''\n",
    "\n",
    "        return np.sum([ self.slex[word]   for word in sentence])\n",
    "\n",
    "magnitude_model = MagnitudeClassifier(slex, avg)\n",
    "\n",
    "predictions = magnitude_model.predict(sentences)\n"
   ]
  },
  {
   "cell_type": "code",
   "execution_count": 14,
   "metadata": {
    "id": "9vVk7CvDpyka"
   },
   "outputs": [
    {
     "name": "stdout",
     "output_type": "stream",
     "text": [
      "Accuracy: 0.69\n"
     ]
    }
   ],
   "source": [
    "magnitude_results = calculate_results(predictions, targets)\n",
    "magnitude_accuracy = calculate_accuracy(predictions, targets)\n",
    "print(\"Accuracy: %0.2f\" % magnitude_accuracy)"
   ]
  },
  {
   "cell_type": "markdown",
   "metadata": {
    "id": "h9SHoGPfsAHV"
   },
   "source": [
    "#### Make a barplot of the two results."
   ]
  },
  {
   "cell_type": "code",
   "execution_count": 15,
   "metadata": {
    "id": "8LgBcYcXsEk3"
   },
   "outputs": [],
   "source": [
    "# What to do here?"
   ]
  },
  {
   "cell_type": "markdown",
   "metadata": {
    "id": "sNhS8OCVxMHd"
   },
   "source": [
    "## (Q1.3 Optional) A better threshold (1pt)\n",
    "Above we have defined a threshold to account for an inherent bias in the dataset: there are more positive than negative words per review.\n",
    "However, that threshold does not take into account *document length*. Explain why this is a problem and implement an alternative way to compute the threshold."
   ]
  },
  {
   "cell_type": "markdown",
   "metadata": {
    "id": "xo7gk1I-omLI"
   },
   "source": [
    "When we have a review of 7 words, the change of them all being positive is very small. But it can still by a positive review. \n",
    "hence we need to normalize with respect to the review length.\n",
    "\n",
    "A percentage could be a good way to normalize we then get:\n",
    "\n",
    "....\n",
    "\n",
    "An alternative approach is to group into x amount of thresholds each for \n"
   ]
  },
  {
   "cell_type": "code",
   "execution_count": 16,
   "metadata": {
    "id": "Dwt0B8h8aKjr"
   },
   "outputs": [
    {
     "name": "stdout",
     "output_type": "stream",
     "text": [
      "0.009082534363548262\n"
     ]
    }
   ],
   "source": [
    "## calculate the average percentage of positive words (compared to pos and neg words)\n",
    "avg = 0\n",
    "total = 0\n",
    "\n",
    "for sentence in sentences:\n",
    "    pos_count = 0\n",
    "    neg_count  = 0\n",
    "    for word in sentence:\n",
    "        s = np.sign(slex[word]) \n",
    "\n",
    "        if  s < 0:\n",
    "            neg_count += 1\n",
    "        if s > 0:\n",
    "            pos_count += 1\n",
    "    total += ((pos_count - neg_count) / len(sentence))\n",
    "\n",
    "\n",
    "avg = total/len(sentences) \n",
    "print(avg)\n",
    "\n"
   ]
  },
  {
   "cell_type": "code",
   "execution_count": 17,
   "metadata": {},
   "outputs": [
    {
     "name": "stdout",
     "output_type": "stream",
     "text": [
      "Accuracy: 0.66\n"
     ]
    }
   ],
   "source": [
    "class BinarySentimentPercClassifier:\n",
    "    \n",
    "    def __init__(self, slex, threshold):\n",
    "        self.slex = slex\n",
    "        self.threshold = threshold\n",
    "\n",
    "    def predict(self, sentences):\n",
    "        return [int( self.binary_sentiment(sentence) > ( self.threshold * len(sentence) )) for sentence in sentences ]\n",
    "    \n",
    "    def binary_sentiment(self, sentence):\n",
    "        '''\n",
    "        sentence: sentence to calculate the sentiment from\n",
    "        returns the binary sentiment score of a sentence given the sentiment lexicon\n",
    "        '''\n",
    "\n",
    "        return np.sum([ np.sign(self.slex[word])   for word in sentence])\n",
    "                    \n",
    "perc_model = BinarySentimentPercClassifier(slex, avg)\n",
    "\n",
    "predictions = perc_model.predict(sentences)\n",
    "perc_results = predictions\n",
    "perc_accuracy = calculate_accuracy(predictions, targets)\n",
    "print(\"Accuracy: %0.2f\" % perc_accuracy)"
   ]
  },
  {
   "cell_type": "code",
   "execution_count": 18,
   "metadata": {},
   "outputs": [
    {
     "name": "stdout",
     "output_type": "stream",
     "text": [
      "yes\n"
     ]
    }
   ],
   "source": [
    "## calculate the average percentage of positive words (compared to pos and neg words)\n",
    "\n",
    "threshold_dict = {\n",
    "    \"small\": 0,\n",
    "    \"medium\": 0,\n",
    "    \"large\": 0\n",
    "}\n",
    "print(\"yes\")\n",
    "\n",
    "for sentence in sentences:\n",
    "    pos_count = 0\n",
    "    neg_count  = 0\n",
    "    for word in sentence:\n",
    "        s = np.sign(slex[word]) \n",
    "\n",
    "        if  s < 0:\n",
    "            neg_count += 1\n",
    "        if s > 0:\n",
    "            pos_count += 1\n",
    "    total += ((pos_count - neg_count) / len(sentence))"
   ]
  },
  {
   "cell_type": "markdown",
   "metadata": {
    "id": "6MFrz8Jink0D"
   },
   "source": [
    "# Significance testing"
   ]
  },
  {
   "cell_type": "markdown",
   "metadata": {
    "id": "kxkxrldT9Ymc"
   },
   "source": [
    "Does using the magnitude improve the results? Oftentimes, answering such questions by simply comparing accuracy\n",
    "scores is not enough. When dealing with natural language and human ratings, it is safe to assume that there are infinitely many possible\n",
    "instances that could be used for training and testing, of which the ones\n",
    "we actually train and test on are a tiny sample. Thus, it is possible\n",
    "that observed differences in the reported performance are due to mere chance.\n",
    "\n",
    "There exist statistical methods which can be used to check for\n",
    "consistency (*statistical significance*) in the results, and one of the\n",
    "simplest such tests is the **sign test**. \n",
    "\n",
    "The sign test is based on the binomial distribution. Count all cases when System 1 is better than System 2, when System 2 is better than System 1, and when they are the same. Call these numbers $Plus$, $Minus$ and $Null$ respectively. \n",
    "\n",
    "The sign test returns the probability that the null hypothesis is true. \n",
    "\n",
    "This probability is called the $p$-value and it can be calculated for the two-sided sign test using the following formula (we multiply by two because this is a two-sided sign test and tests for the significance of differences in either direction):\n",
    "\n",
    "$$2 \\, \\sum\\limits_{i=0}^{k} \\binom{N}{i} \\, q^i \\, (1-q)^{N-i}$$\n",
    "\n",
    "where $$N = 2 \\Big\\lceil \\frac{Null}{2}\\Big\\rceil + Plus + Minus$$ is the total\n",
    "number of cases, and\n",
    "$$k = \\Big\\lceil \\frac{Null}{2}\\Big\\rceil + \\min\\{Plus,Minus\\}$$ is the number of\n",
    "cases with the less common sign. \n",
    "\n",
    "Here, we\n",
    "treat ties by adding half a point to either side, rounding up to the\n",
    "nearest integer if necessary. \n",
    "\n",
    "In this experiment, $q = 0.5$, so the formula simplifies to:\n",
    "$$2\\times 0.5^N\\, \\sum\\limits_{i=0}^{k} \\binom{N}{i}$$\n",
    "\n",
    "\n",
    "We use the `comb` function from `scipy` and the `decimal` package for the stable adding of numbers in the final summation.\n"
   ]
  },
  {
   "cell_type": "code",
   "execution_count": 19,
   "metadata": {
    "id": "de5l4oPkE-BS"
   },
   "outputs": [
    {
     "name": "stdout",
     "output_type": "stream",
     "text": [
      "the difference is not significant\n",
      "p_value = 0.5024515744752503461039016873\n"
     ]
    }
   ],
   "source": [
    "from decimal import Decimal\n",
    "from scipy.special import comb\n",
    "\n",
    "\n",
    "def sign_test(results_1, results_2):\n",
    "  \"\"\"test for significance\"\"\"\n",
    "  ties, plus, minus = 0, 0, 0\n",
    "\n",
    "  for i in range(0, len(results_1)):\n",
    "    if results_1[i]==results_2[i]:\n",
    "      ties += 1\n",
    "    elif results_1[i]==0: \n",
    "      plus += 1\n",
    "    elif results_2[i]==0: \n",
    "      minus += 1\n",
    "\n",
    "  n = (2 * math.ceil(ties/2.0)) + plus + minus\n",
    "  k = math.ceil(ties/2.0) + min(plus,minus)\n",
    "\n",
    "  summation = Decimal(0.0)\n",
    "  for i in range(0,int(k)+1):\n",
    "      summation += (Decimal(comb(n,i,exact=True)))\n",
    "\n",
    "  # use two-tailed version of test\n",
    "  summation *= 2\n",
    "  summation *= (Decimal(0.5)**Decimal(n))\n",
    "  \n",
    "  print(\"the difference is\", \n",
    "        \"not significant\" if summation >= 0.05 else \"significant\")\n",
    "  \n",
    "  return summation\n",
    "\n",
    "p_value = sign_test(token_results, magnitude_results)\n",
    "print(\"p_value =\", p_value)"
   ]
  },
  {
   "cell_type": "markdown",
   "metadata": {
    "id": "uhU_tk-BOaXb"
   },
   "source": [
    "### Using the Sign test\n",
    "\n",
    "**From now on, report all differences between systems, as well as between system configurations, using the\n",
    "sign test.**\n",
    "    \n",
    "You should report statistical test\n",
    "results in an appropriate form. If there are several different methods\n",
    "(i.e., systems) to compare, the Sign test can only be applied to pairs of them\n",
    "at a time. When reporting these pair-wise differences, you should\n",
    "summarise trends to avoid redundancy.\n"
   ]
  },
  {
   "cell_type": "markdown",
   "metadata": {
    "id": "LibV4nR89BXb"
   },
   "source": [
    "# Naive Bayes (10pt)"
   ]
  },
  {
   "cell_type": "markdown",
   "metadata": {
    "id": "fnF9adQnuwia"
   },
   "source": [
    "\n",
    "Your second task is to program a simple Machine Learning approach that operates\n",
    "on a simple Bag-of-Words (BoW) representation of the text data, as\n",
    "described by Pang et al. (2002). In this approach, the only features we\n",
    "will consider are the words in the text themselves, without bringing in\n",
    "external sources of information. The BoW model is a popular way of\n",
    "representing texts as vectors, making it\n",
    "easy to apply classical Machine Learning algorithms on NLP tasks.\n",
    "However, the BoW representation is also very crude, since it discards\n",
    "all information related to word order and grammatical structure in the\n",
    "original text—as the name suggests.\n",
    "\n",
    "## Writing your own classifier (4pts)\n",
    "\n",
    "Write your own code to implement the Naive Bayes (NB) classifier. As\n",
    "a reminder, the Naive Bayes classifier works according to the following\n",
    "equation:\n",
    "$$\\hat{c} = \\operatorname*{arg\\,max}_{c \\in C} P(c|\\bar{f}) = \\operatorname*{arg\\,max}_{c \\in C} P(c)\\prod^n_{i=1} P(f_i|c)$$\n",
    "where $C = \\{ \\text{POS}, \\text{NEG} \\}$ is the set of possible classes,\n",
    "$\\hat{c} \\in C$ is the most probable class, and $\\bar{f}$ is the feature\n",
    "vector. Remember that we use the log of these probabilities when making\n",
    "a prediction:\n",
    "$$\\hat{c} = \\operatorname*{arg\\,max}_{c \\in C} \\Big\\{\\log P(c) + \\sum^n_{i=1} \\log P(f_i|c)\\Big\\}$$\n",
    "\n",
    "You can find more details about Naive Bayes in [Jurafsky &\n",
    "Martin](https://web.stanford.edu/~jurafsky/slp3/). You can also look at\n",
    "this helpful\n",
    "[pseudo-code](https://nlp.stanford.edu/IR-book/html/htmledition/naive-bayes-text-classification-1.html).\n",
    "\n",
    "*Note: this section and the next aim to put you in a position to replicate\n",
    "    Pang et al.'s Naive Bayes results. However, your numerical results\n",
    "    will differ from theirs, as they used different data.*\n",
    "\n",
    "**You must write the Naive Bayes training and prediction code from\n",
    "scratch.** You will not be given credit for using off-the-shelf Machine\n",
    "Learning libraries.\n",
    "\n",
    "The data contains the text of the reviews, where each document consists\n",
    "of the sentences in the review, the sentiment of the review and an index\n",
    "(cv) that you will later use for cross-validation. The\n",
    "text has already been tokenised and POS-tagged for you. Your algorithm\n",
    "should read in the text, **lowercase it**, store the words and their\n",
    "frequencies in an appropriate data structure that allows for easy\n",
    "computation of the probabilities used in the Naive Bayes algorithm, and\n",
    "then make predictions for new instances.\n"
   ]
  },
  {
   "cell_type": "markdown",
   "metadata": {
    "id": "vEpyQSBSkb33"
   },
   "source": [
    "#### (Q3.1) Unseen words (1pt)\n",
    "The presence of words in the test dataset that\n",
    "have not been seen during training can cause probabilities in the Naive Bayes classifier to equal $0$.\n",
    "These can be words which are unseen in both positive and negative training reviews (case 1), but also words which are seen in reviews _of only one sentiment class_ in the training dataset (case 2). In both cases, **you should skip these words for both classes**. \n",
    "\n",
    "In case 2, you could also set $P(c|\\bar{f}) = 0$ for the class $c$ within which $f_i \\in \\bar{f}$ was not seen. One way to implement this in log space is to set $P(c|\\bar{f}) = -\\infty$. What would be the problem instead with skipping words only for one class in case 2? "
   ]
  },
  {
   "cell_type": "markdown",
   "metadata": {
    "id": "BanFiYYnoxDW"
   },
   "source": [
    "#### answer \n",
    "We have two classes: $c_1$ and $c_2$\n",
    "\n",
    "Let $c_1$ be the class for which $f_i$ was seen and $c_2$ be the class for which $f_i$ was not seen. Assume that all other features were observed by both classes.\n",
    "\n",
    "Then $P(c_1| \\bar{f}) > P(c_2| \\bar{f})$, regardless of the other features! This is undeserable, because maybe when we skipped that one feature to get $\\bar{f}'$ we would have had: $P(c_1| \\bar{f}') < P(c_2| \\bar{f}')$\n",
    "\n",
    "Hence just because one word only showed up in one class, doesn't make that class the most probably candidate.\n"
   ]
  },
  {
   "cell_type": "markdown",
   "metadata": {
    "id": "gsZRhaI3WvzC"
   },
   "source": [
    "#### (Q3.2) Train your classifier on (positive and negative) reviews with cv-value 000-899, and test it on the remaining (positive and negative) reviews cv900–cv999.  Report results using classification accuracy as your evaluation metric. Your  features are the word vocabulary. The value of a feature is the count of that feature (word) in the document. (2pts)\n"
   ]
  },
  {
   "cell_type": "code",
   "execution_count": 20,
   "metadata": {
    "id": "G7zaJYGFvIJ3"
   },
   "outputs": [],
   "source": [
    "def create_dataset_split(reviews, cv_train, cv_test):\n",
    "    train_targets = []\n",
    "    test_targets = []\n",
    "    train_sentences = []\n",
    "    test_sentences = []\n",
    "    \n",
    "    for review in reviews:\n",
    "        if review['cv'] in cv_train:\n",
    "            train_targets.append(int( review['sentiment'] == 'POS'))\n",
    "            whole_review = create_whole_review( review['content'])\n",
    "            train_sentences.append(whole_review)\n",
    "        if review['cv'] in cv_test:\n",
    "            \n",
    "            test_targets.append(int( review['sentiment'] == 'POS'))\n",
    "            whole_review = create_whole_review( review['content'])\n",
    "            test_sentences.append(whole_review)\n",
    "\n",
    "    return train_sentences, train_targets, test_sentences, test_targets\n",
    "\n",
    "\n"
   ]
  },
  {
   "cell_type": "code",
   "execution_count": 21,
   "metadata": {},
   "outputs": [],
   "source": [
    "from tqdm import tqdm\n",
    "def create_voc(sentences):\n",
    "    '''\n",
    "        Creates a vocubulair of the sentences\n",
    "        Uses lowercase\n",
    "        returns list of words.\n",
    "    '''\n",
    "    voc = list(set([word for sentence in sentences for word in sentence]))\n",
    "\n",
    "    return voc\n",
    "    \n",
    "\n",
    "class NaiveBayesClassifier:\n",
    "    \n",
    "    def __init__(self, k=0):\n",
    "        self.log_likelihood = defaultdict(float)\n",
    "        self.log_prior = defaultdict(float)\n",
    "        self.voc = None\n",
    "        self.counts = defaultdict(float)\n",
    "        self.k = k\n",
    "    \n",
    "    def fit(self, sentences, targets):\n",
    "        '''\n",
    "            Fits the naive bayes classifier, given the sentences and the targets\n",
    "        '''\n",
    "        n_doc = len(sentences)\n",
    "        n_pos = np.sum(targets)\n",
    "        n_neg = n_doc - n_pos\n",
    "        \n",
    "        \n",
    "        self.log_prior = {\n",
    "            0: np.log(n_neg/n_doc),\n",
    "            1: np.log(n_pos/n_doc)\n",
    "        } \n",
    "        \n",
    "\n",
    "\n",
    "        self.voc = create_voc(sentences)\n",
    "        \n",
    "        pos_idx = np.array(targets) == 1\n",
    "        doc = {\n",
    "            0: np.array(sentences, dtype=object)[~pos_idx],\n",
    "            1:  np.array(sentences, dtype=object)[pos_idx]\n",
    "        }\n",
    "        \n",
    "\n",
    "        for c, sentences in doc.items():\n",
    "            for sentence in sentences:\n",
    "                for w in sentence:\n",
    "                    self.counts[(w,c)] += 1\n",
    "        \n",
    "        \n",
    "        total_counts = {\n",
    "            0: np.sum([self.counts[(w,0)] + self.k  for w in self.voc]),\n",
    "            1: np.sum([self.counts[(w,1)] + self.k  for w in self.voc])\n",
    "        }\n",
    "\n",
    "        for c in doc.keys():\n",
    "            if total_counts[c] != 0:\n",
    "                for w in self.voc:\n",
    "                    if self.counts[(w,c)] + self.k > 0:\n",
    "                        self.log_likelihood[(w, c)] = np.log( (self.counts[(w,c)] + self.k )/ total_counts[c]) \n",
    "\n",
    "    \n",
    "    def predict(self, sentences):\n",
    "        '''\n",
    "            Predict the label of the given sentences\n",
    "        '''\n",
    "        result = []\n",
    "        for sentence in tqdm(sentences):\n",
    "            result.append(self.predict_1(sentence))\n",
    "        return result\n",
    "    \n",
    "    def predict_1(self, sentence):\n",
    "        '''\n",
    "            Predicts the label of one sentence\n",
    "        '''\n",
    "        \n",
    "        sum_c = [self.log_prior[0], self.log_prior[1]]\n",
    "        for c in [0,1]:\n",
    "            for word in sentence:\n",
    "                    ### Note that we implicitally use that words that did not appear do not count, by using a default dict\n",
    "                    # We need to make sure the words are lowercase\n",
    "                    sum_c[c] += self.log_likelihood[(word, c)]\n",
    "                    \n",
    "        return np.argmax(sum_c)\n",
    "\n",
    "    def reset_params(self):\n",
    "        '''\n",
    "        Resets the parameters, such that we can do another round of trainig.\n",
    "        '''\n",
    "        self.log_likelihood = defaultdict(float)\n",
    "        self.log_prior = defaultdict(float)\n",
    "        self.voc = None\n",
    "        self.counts = defaultdict(float)\n",
    "        \n",
    "    \n",
    "train_sentences, train_targets, test_sentences, test_targets = create_dataset_split(reviews, [i for i in range(0,900)], [i for i in range(900,1000)])\n",
    "naive_bayes_model = NaiveBayesClassifier()\n",
    "naive_bayes_model.fit(train_sentences, train_targets)"
   ]
  },
  {
   "cell_type": "code",
   "execution_count": 22,
   "metadata": {},
   "outputs": [
    {
     "name": "stderr",
     "output_type": "stream",
     "text": [
      "100%|██████████████████████████████████████████████████████████████████████████████| 200/200 [00:00<00:00, 2061.33it/s]"
     ]
    },
    {
     "name": "stdout",
     "output_type": "stream",
     "text": [
      "Accuracy: 0.49\n"
     ]
    },
    {
     "name": "stderr",
     "output_type": "stream",
     "text": [
      "\n"
     ]
    }
   ],
   "source": [
    "predictions = naive_bayes_model.predict(test_sentences)\n",
    "\n",
    "naive_bayes_results = calculate_results(predictions, test_targets)\n",
    "naive_bayes_accuracy = calculate_accuracy(predictions, test_targets)\n",
    "print(\"Accuracy: %0.2f\" % naive_bayes_accuracy)"
   ]
  },
  {
   "cell_type": "markdown",
   "metadata": {
    "id": "0INK-PBoM6CB"
   },
   "source": [
    "#### (Q3.3) Would you consider accuracy to also be a good way to evaluate your classifier in a situation where 90% of your data instances are of positive movie reviews? (1pt)\n",
    "\n",
    "Simulate this scenario by keeping the positive reviews\n",
    "data unchanged, but only using negative reviews cv000–cv089 for\n",
    "training, and cv900–cv909 for testing. Calculate the classification\n",
    "accuracy, and explain what changed."
   ]
  },
  {
   "cell_type": "markdown",
   "metadata": {
    "id": "oFbcsYlipBAw"
   },
   "source": [
    "The classification accuracy becomes 0.0, because the training set only contains negative examples and no positive examples, hence the log prior for the positive class will become $-\\infty$"
   ]
  },
  {
   "cell_type": "code",
   "execution_count": 23,
   "metadata": {
    "id": "GWDkt5ZrrFGp"
   },
   "outputs": [
    {
     "name": "stderr",
     "output_type": "stream",
     "text": [
      "C:\\Users\\gerso\\anaconda3\\envs\\nlp1\\lib\\site-packages\\ipykernel_launcher.py:33: RuntimeWarning: divide by zero encountered in log\n",
      "100%|██████████████████████████████████████████████████████████████████████████████████| 9/9 [00:00<00:00, 1806.68it/s]"
     ]
    },
    {
     "name": "stdout",
     "output_type": "stream",
     "text": [
      "Accuracy: 0.00\n"
     ]
    },
    {
     "name": "stderr",
     "output_type": "stream",
     "text": [
      "\n"
     ]
    }
   ],
   "source": [
    "train_sentences, train_targets, test_sentences, test_targets = create_dataset_split(reviews, [i for i in range(0,90)], [i for i in range(900,910)])\n",
    "index_train = 90\n",
    "index_test = 9\n",
    "\n",
    "### we need to make sure tha we only get the positive/negative examples from those indexes\n",
    "train_targets = train_targets[:index_train]\n",
    "train_sentences = train_sentences[:index_train]\n",
    "\n",
    "test_targets = test_targets[-index_test:]\n",
    "test_sentences = test_sentences[-index_test:]\n",
    "\n",
    "all_neg_naive_bayes_model = NaiveBayesClassifier()\n",
    "all_neg_naive_bayes_model.fit(train_sentences, train_targets)\n",
    "predictions = all_neg_naive_bayes_model.predict(test_sentences)\n",
    "\n",
    "\n",
    "naive_bayes_all_neg_results = calculate_results(predictions, test_targets)\n",
    "\n",
    "naive_bayes_all_neg_accuracy = calculate_accuracy(naive_bayes_all_neg_results, test_targets)\n",
    "print(\"Accuracy: %0.2f\" % naive_bayes_all_neg_accuracy)"
   ]
  },
  {
   "cell_type": "markdown",
   "metadata": {
    "id": "6wJzcHX3WUDm"
   },
   "source": [
    "## Smoothing (1.5pts)\n",
    "\n",
    "As mentioned above, the presence of words in the test dataset that\n",
    "have not been seen during training can cause probabilities in the Naive\n",
    "Bayes classifier to be $0$, thus making that particular test instance\n",
    "undecidable. The standard way to mitigate this effect (as well as to\n",
    "give more clout to rare words) is to use smoothing, in which the\n",
    "probability fraction\n",
    "$$\\frac{\\text{count}(w_i, c)}{\\sum\\limits_{w\\in V} \\text{count}(w, c)}$$ for a word\n",
    "$w_i$ becomes\n",
    "$$\\frac{\\text{count}(w_i, c) + \\text{smoothing}(w_i)}{\\sum\\limits_{w\\in V} \\text{count}(w, c) + \\sum\\limits_{w \\in V} \\text{smoothing}(w)}$$\n",
    "\n",
    "\n",
    "\n"
   ]
  },
  {
   "cell_type": "markdown",
   "metadata": {
    "id": "PBNIcbwUWphC"
   },
   "source": [
    "#### (Q3.4) Implement Laplace feature smoothing (1pt)\n",
    "Implement Laplace smoothing, i.e., smoothing with a constant value ($smoothing(w) = \\kappa, \\forall w \\in V$), in your Naive\n",
    "Bayes classifier’s code, and report the impact on performance. \n",
    "Use $\\kappa = 1$."
   ]
  },
  {
   "cell_type": "code",
   "execution_count": 24,
   "metadata": {
    "id": "g03yflCc9kpW"
   },
   "outputs": [],
   "source": [
    "\n",
    "train_sentences, train_targets, test_sentences, test_targets = create_dataset_split(reviews, [i for i in range(0,900)], [i for i in range(900,1000)])\n",
    "smooth_naive_bayes_model = NaiveBayesClassifier(1)\n",
    "smooth_naive_bayes_model.fit(train_sentences, train_targets)"
   ]
  },
  {
   "cell_type": "code",
   "execution_count": 25,
   "metadata": {},
   "outputs": [
    {
     "name": "stderr",
     "output_type": "stream",
     "text": [
      "100%|██████████████████████████████████████████████████████████████████████████████| 200/200 [00:00<00:00, 1869.28it/s]"
     ]
    },
    {
     "name": "stdout",
     "output_type": "stream",
     "text": [
      "Accuracy: 0.82\n"
     ]
    },
    {
     "name": "stderr",
     "output_type": "stream",
     "text": [
      "\n"
     ]
    }
   ],
   "source": [
    "predictions = smooth_naive_bayes_model.predict(test_sentences)\n",
    "\n",
    "smoothed_naive_bayes_results = calculate_results(predictions, test_targets)\n",
    "smoothed_naive_bayes_accuracy = calculate_accuracy(predictions, test_targets)\n",
    "print(\"Accuracy: %0.2f\" % smoothed_naive_bayes_accuracy)"
   ]
  },
  {
   "cell_type": "markdown",
   "metadata": {
    "id": "-conSBddWWyN"
   },
   "source": [
    "#### (Q3.5) Is the difference between non smoothed (Q3.2) and smoothed (Q3.4) statistically significant? (0.5pt)"
   ]
  },
  {
   "cell_type": "code",
   "execution_count": 26,
   "metadata": {
    "id": "CCvSNGlHMUPz"
   },
   "outputs": [
    {
     "name": "stdout",
     "output_type": "stream",
     "text": [
      "the difference is significant\n",
      "p_value = 0.000003547178174130642586494974890\n"
     ]
    }
   ],
   "source": [
    "\n",
    "p_value = sign_test(smoothed_naive_bayes_results, naive_bayes_results)\n",
    "print(\"p_value =\", p_value)\n"
   ]
  },
  {
   "cell_type": "markdown",
   "metadata": {},
   "source": [
    "The difference is statistically significant, which is to be expected as the smoothed version has a much higher accuracy than the not smoothed version. "
   ]
  },
  {
   "cell_type": "markdown",
   "metadata": {
    "id": "ZiGcgwba87D5"
   },
   "source": [
    "## Cross-Validation (1.5pts)\n",
    "\n",
    "A serious danger in using Machine Learning on small datasets, with many\n",
    "iterations of slightly different versions of the algorithms, is ending up with Type III errors, also called the “testing hypotheses\n",
    "suggested by the data” errors. This type of error occurs when we make\n",
    "repeated improvements to our classifiers by playing with features and\n",
    "their processing, but we don’t get a fresh, never-before seen test\n",
    "dataset every time. Thus, we risk developing a classifier that gets better\n",
    "and better on our data, but only gets worse at generalizing to new, unseen data. In other words, we risk developping a classifier that overfits.\n",
    "\n",
    "A simple method to guard against Type III errors is to use\n",
    "Cross-Validation. In **N-fold Cross-Validation**, we divide the data into N\n",
    "distinct chunks, or folds. Then, we repeat the experiment N times: each\n",
    "time holding out one of the folds for testing, training our classifier\n",
    "on the remaining N - 1 data folds, and reporting performance on the\n",
    "held-out fold. We can use different strategies for dividing the data:\n",
    "\n",
    "-   Consecutive splitting:\n",
    "  - cv000–cv099 = Split 1\n",
    "  - cv100–cv199 = Split 2\n",
    "  - etc.\n",
    "  \n",
    "-   Round-robin splitting (mod 10):\n",
    "  - cv000, cv010, cv020, … = Split 1\n",
    "  - cv001, cv011, cv021, … = Split 2\n",
    "  - etc.\n",
    "\n",
    "-   Random sampling/splitting\n",
    "  - Not used here (but you may choose to split this way in a non-educational situation)\n",
    "\n"
   ]
  },
  {
   "cell_type": "markdown",
   "metadata": {
    "id": "8OeLcbSauGtR"
   },
   "source": [
    "#### (Q3.6) Write the code to implement 10-fold cross-validation using round-robin splitting for your Naive Bayes classifier from Q3.2 and compute the 10 accuracies. Report the final performance, which is the average of the performances per fold. If all splits perform equally well, this is a good sign. (1pt)"
   ]
  },
  {
   "cell_type": "code",
   "execution_count": 27,
   "metadata": {
    "id": "3KeCGPa7Nuzx"
   },
   "outputs": [],
   "source": [
    "def create_folds(data, n_folds):\n",
    "    review_folds = [[] for i in range(n_folds)]\n",
    "    label_folds = [[] for i in range(n_folds)]\n",
    "\n",
    "    for review in data:\n",
    "        i = review['cv'] % n_folds\n",
    "\n",
    "        whole_review = create_whole_review( review['content'])\n",
    "        review_folds[i].append(whole_review)\n",
    "        label_folds[i].append(int( review['sentiment'] == 'POS'))\n",
    "    return review_folds, label_folds\n",
    "\n",
    "        \n",
    "review_folds, label_folds = create_folds(reviews, 10)\n"
   ]
  },
  {
   "cell_type": "code",
   "execution_count": 28,
   "metadata": {},
   "outputs": [
    {
     "name": "stderr",
     "output_type": "stream",
     "text": [
      "100%|██████████████████████████████████████████████████████████████████████████████| 200/200 [00:00<00:00, 2173.90it/s]\n",
      "100%|██████████████████████████████████████████████████████████████████████████████| 200/200 [00:00<00:00, 2040.07it/s]\n",
      "100%|██████████████████████████████████████████████████████████████████████████████| 200/200 [00:00<00:00, 1980.01it/s]\n",
      "100%|██████████████████████████████████████████████████████████████████████████████| 200/200 [00:00<00:00, 2083.32it/s]\n",
      "100%|██████████████████████████████████████████████████████████████████████████████| 200/200 [00:00<00:00, 2222.97it/s]\n",
      "100%|██████████████████████████████████████████████████████████████████████████████| 200/200 [00:00<00:00, 2126.97it/s]\n",
      "100%|██████████████████████████████████████████████████████████████████████████████| 200/200 [00:00<00:00, 1851.19it/s]\n",
      "100%|██████████████████████████████████████████████████████████████████████████████| 200/200 [00:00<00:00, 2018.33it/s]\n",
      "100%|██████████████████████████████████████████████████████████████████████████████| 200/200 [00:00<00:00, 2138.15it/s]\n",
      "100%|██████████████████████████████████████████████████████████████████████████████| 200/200 [00:00<00:00, 2106.33it/s]\n"
     ]
    }
   ],
   "source": [
    "def train_on_fold(model, x_folds, y_folds, held_out_index):\n",
    "    train_x = []\n",
    "    train_y = []\n",
    "    test_x = []\n",
    "    test_y = []\n",
    "    for i in range(len(x_folds)):\n",
    "        if i != held_out_index:\n",
    "            train_x += x_folds[i]\n",
    "            train_y += y_folds[i]\n",
    "        else:\n",
    "            test_x += x_folds[i]\n",
    "            test_y += y_folds[i]\n",
    "    \n",
    "    model.fit(train_x, train_y)\n",
    "    predictions = model.predict(test_x)\n",
    "    results = calculate_results(predictions, test_y)\n",
    "    accuracy  = calculate_accuracy(predictions, test_y)\n",
    "    return accuracy, predictions, results\n",
    "\n",
    "def train_on_folds(create_model, x_folds, y_folds):\n",
    "    models = [create_model() for i in range(len(x_folds))]\n",
    "    accuracies = []\n",
    "    predictions = []\n",
    "    results = []\n",
    "    for i, fold in enumerate(x_folds):\n",
    "        model = models[i]\n",
    "        accuracy, prediction, result = train_on_fold(model, x_folds, y_folds, i)\n",
    "        \n",
    "        accuracies.append(accuracy)\n",
    "        predictions.append(predictions)\n",
    "        results.append(result)\n",
    "    return models, accuracies, predictions, results\n",
    "create_model = lambda: NaiveBayesClassifier(1)\n",
    "models, accuracies, predictions, results = train_on_folds(create_model, review_folds, label_folds)"
   ]
  },
  {
   "cell_type": "code",
   "execution_count": 29,
   "metadata": {},
   "outputs": [
    {
     "name": "stdout",
     "output_type": "stream",
     "text": [
      "[<__main__.NaiveBayesClassifier object at 0x0000027926680448>, <__main__.NaiveBayesClassifier object at 0x0000027926680348>, <__main__.NaiveBayesClassifier object at 0x0000027926680248>, <__main__.NaiveBayesClassifier object at 0x00000279266F4D08>, <__main__.NaiveBayesClassifier object at 0x00000279266F4B88>, <__main__.NaiveBayesClassifier object at 0x00000279266F5F08>, <__main__.NaiveBayesClassifier object at 0x000002792DCA5788>, <__main__.NaiveBayesClassifier object at 0x000002792DCA57C8>, <__main__.NaiveBayesClassifier object at 0x000002792DCA5808>, <__main__.NaiveBayesClassifier object at 0x000002792147DF08>]\n",
      "[0.79, 0.835, 0.805, 0.825, 0.78, 0.845, 0.83, 0.775, 0.83, 0.84]\n"
     ]
    }
   ],
   "source": [
    "print(models)\n",
    "print(accuracies)"
   ]
  },
  {
   "cell_type": "markdown",
   "metadata": {
    "id": "otdlsDXBNyOa"
   },
   "source": [
    "#### (Q3.7) Write code to calculate and report the variance of the 10 accuracy scores, in addition to the final performance. You must not use a library, such as numpy. (0.5pt)\n",
    "\n",
    "**Please report all future results using 10-fold cross-validation now\n",
    "(unless told to use the held-out test set).**"
   ]
  },
  {
   "cell_type": "code",
   "execution_count": 30,
   "metadata": {
    "id": "ZoBQm1KuNzNR"
   },
   "outputs": [
    {
     "name": "stdout",
     "output_type": "stream",
     "text": [
      "[0.79, 0.835, 0.805, 0.825, 0.78, 0.845, 0.83, 0.775, 0.83, 0.84]\n",
      "0.8155000000000001\n",
      "0.024540782383616025\n"
     ]
    }
   ],
   "source": [
    "def compute_mean(values):\n",
    "\n",
    "    total = 0\n",
    "    for val in values:\n",
    "        total += val\n",
    "    return total/len(values)\n",
    "\n",
    "def compute_std(values):\n",
    "    ## Calculate the std:\n",
    "    mean = compute_mean(values)\n",
    "    tmp_sum = 0\n",
    "    for val in values:\n",
    "        tmp_sum += (val- mean)**2\n",
    "    return math.sqrt(1/len(values) * tmp_sum )\n",
    "print(accuracies)\n",
    "print(compute_mean(accuracies))\n",
    "print(compute_std(accuracies))\n"
   ]
  },
  {
   "cell_type": "markdown",
   "metadata": {
    "id": "s6A2zX9_BRKm"
   },
   "source": [
    "## Features, overfitting, and the curse of dimensionality\n",
    "\n",
    "In the Bag-of-Words model, ideally we would like each distinct word in\n",
    "the text to be mapped to its own dimension in the output vector\n",
    "representation. However, real world text is messy, and we need to decide\n",
    "on what we consider to be a word. For example, is “`word`\" different\n",
    "from “`Word`\", from “`word`”, or from “`words`\"? Too strict a\n",
    "definition, and the number of features explodes, while our algorithm\n",
    "fails to learn anything generalisable. Too lax, and we risk destroying\n",
    "our learning signal. In the following section, you will learn about\n",
    "confronting the feature sparsity and the overfitting problems as they\n",
    "occur in NLP classification tasks."
   ]
  },
  {
   "cell_type": "markdown",
   "metadata": {
    "id": "EKK8FNt8VtcZ"
   },
   "source": [
    "### Stemming (1.5pts)\n",
    "\n",
    "To make your algorithm more robust, use stemming and\n",
    "hash different inflections of a word to the same feature in the BoW\n",
    "vector space. How does the performance of your classifier change when\n",
    "you use stemming on your training and test datasets? Please use the [Porter stemming\n",
    "    algorithm](http://www.nltk.org/howto/stem.html) from NLTK.\n",
    "\n",
    "You should also perform cross-validation. Concatenate the predictions from all folds to compute the significance."
   ]
  },
  {
   "cell_type": "code",
   "execution_count": 31,
   "metadata": {
    "id": "NxtCul1IrBi_"
   },
   "outputs": [],
   "source": [
    "from nltk.stem import *\n",
    "\n",
    "def stem_sentences(sentences):\n",
    "    \n",
    "    port_stemmer = PorterStemmer()\n",
    "    snowball_stemmer = SnowballStemmer(\"english\")\n",
    "    result = []\n",
    "    \n",
    "    for sentence in sentences:\n",
    "        result.append([port_stemmer.stem(snowball_stemmer.stem(word)) for word in sentence])\n",
    "        \n",
    "    return result\n",
    "\n",
    "\n",
    "stemmed_x_folds = [stem_sentences(x) for x in review_folds]\n",
    "\n"
   ]
  },
  {
   "cell_type": "code",
   "execution_count": 32,
   "metadata": {},
   "outputs": [
    {
     "name": "stderr",
     "output_type": "stream",
     "text": [
      "100%|██████████████████████████████████████████████████████████████████████████████| 200/200 [00:00<00:00, 2297.93it/s]\n",
      "100%|██████████████████████████████████████████████████████████████████████████████| 200/200 [00:00<00:00, 2272.78it/s]\n",
      "100%|██████████████████████████████████████████████████████████████████████████████| 200/200 [00:00<00:00, 2174.61it/s]\n",
      "100%|██████████████████████████████████████████████████████████████████████████████| 200/200 [00:00<00:00, 2299.67it/s]\n",
      "100%|██████████████████████████████████████████████████████████████████████████████| 200/200 [00:00<00:00, 2380.97it/s]\n",
      "100%|██████████████████████████████████████████████████████████████████████████████| 200/200 [00:00<00:00, 2352.17it/s]\n",
      "100%|██████████████████████████████████████████████████████████████████████████████| 200/200 [00:00<00:00, 2150.54it/s]\n",
      "100%|██████████████████████████████████████████████████████████████████████████████| 200/200 [00:00<00:00, 2326.39it/s]\n",
      "100%|██████████████████████████████████████████████████████████████████████████████| 200/200 [00:00<00:00, 2324.95it/s]\n",
      "100%|██████████████████████████████████████████████████████████████████████████████| 200/200 [00:00<00:00, 2380.96it/s]\n"
     ]
    }
   ],
   "source": [
    "stemmed_models, stemmed_accuracies, stemmed_predictions, stemmed_results  = train_on_folds(create_model, stemmed_x_folds, label_folds)"
   ]
  },
  {
   "cell_type": "code",
   "execution_count": 33,
   "metadata": {},
   "outputs": [
    {
     "name": "stdout",
     "output_type": "stream",
     "text": [
      "[0.79, 0.835, 0.805, 0.825, 0.78, 0.845, 0.83, 0.775, 0.83, 0.84]\n",
      "0.8155000000000001\n",
      "0.024540782383616025\n"
     ]
    }
   ],
   "source": [
    "print(accuracies)\n",
    "print(compute_mean(accuracies))\n",
    "print(compute_std(accuracies))"
   ]
  },
  {
   "cell_type": "markdown",
   "metadata": {
    "id": "6SrJ1BeLXTnk"
   },
   "source": [
    "#### (Q3.9): Is the difference between NB with smoothing and NB with smoothing+stemming significant? (1pt)\n"
   ]
  },
  {
   "cell_type": "code",
   "execution_count": 34,
   "metadata": {
    "id": "gYqKBOiIrInT"
   },
   "outputs": [],
   "source": [
    "# How to test this? Which dataset do we need to use?\n"
   ]
  },
  {
   "cell_type": "markdown",
   "metadata": {
    "id": "JkDHVq_1XUVP"
   },
   "source": [
    "#### (Q3.10) What happens to the number of features (i.e., the size of the vocabulary) when using stemming as opposed to (Q3.4)? (0.5pt)\n",
    "Give actual numbers. You can use the held-out training set to determine these."
   ]
  },
  {
   "cell_type": "code",
   "execution_count": 35,
   "metadata": {
    "id": "MA3vee5-rJyy"
   },
   "outputs": [
    {
     "name": "stdout",
     "output_type": "stream",
     "text": [
      "45329\n",
      "31591\n"
     ]
    }
   ],
   "source": [
    "print(len(models[0].voc))\n",
    "print(len(stemmed_models[0].voc))"
   ]
  },
  {
   "cell_type": "markdown",
   "metadata": {
    "id": "SoazfxbNV5Lq"
   },
   "source": [
    "### N-grams (1.5pts)\n",
    "\n",
    "A simple way of retaining some of the word\n",
    "order information when using bag-of-words representations is to add **n-gram** features. \n",
    "\n",
    "\n",
    "\n",
    "\n"
   ]
  },
  {
   "cell_type": "markdown",
   "metadata": {
    "id": "OHjy3I7-qWiu"
   },
   "source": [
    "#### (Q3.11) Retrain your classifier from (Q3.4) using **unigrams+bigrams** and **unigrams+bigrams+trigrams** as features. (1pt)\n",
    "Report accuracy and statistical significances (in comparison to the experiment at (Q3.6) for all 10 folds, and between the new systems). You are allowed to use NLTK to build n-grams from sentences."
   ]
  },
  {
   "cell_type": "code",
   "execution_count": 36,
   "metadata": {
    "id": "eYuKMTOpq9jz"
   },
   "outputs": [],
   "source": [
    "from nltk import ngrams\n",
    "\n",
    "\n",
    "def to_n_grams(sentences, ns=[1,23]):\n",
    "    \n",
    "    \n",
    "    result = []\n",
    "    \n",
    "    for sentence in sentences:\n",
    "        temp = []\n",
    "        for n in ns:\n",
    "            temp += ngrams(sentence, n)\n",
    "            \n",
    "        result.append(temp)\n",
    "        \n",
    "    return result\n",
    "\n",
    "\n",
    "un_bi_gram_x = [to_n_grams(x, ns=[1,2]) for x in review_folds]\n"
   ]
  },
  {
   "cell_type": "code",
   "execution_count": 37,
   "metadata": {},
   "outputs": [
    {
     "name": "stderr",
     "output_type": "stream",
     "text": [
      "100%|███████████████████████████████████████████████████████████████████████████████| 200/200 [00:00<00:00, 623.43it/s]\n",
      "100%|███████████████████████████████████████████████████████████████████████████████| 200/200 [00:00<00:00, 578.03it/s]\n",
      "100%|███████████████████████████████████████████████████████████████████████████████| 200/200 [00:00<00:00, 571.52it/s]\n",
      "100%|███████████████████████████████████████████████████████████████████████████████| 200/200 [00:00<00:00, 583.05it/s]\n",
      "100%|███████████████████████████████████████████████████████████████████████████████| 200/200 [00:00<00:00, 625.00it/s]\n",
      "100%|███████████████████████████████████████████████████████████████████████████████| 200/200 [00:00<00:00, 606.05it/s]\n",
      "100%|███████████████████████████████████████████████████████████████████████████████| 200/200 [00:00<00:00, 579.66it/s]\n",
      "100%|███████████████████████████████████████████████████████████████████████████████| 200/200 [00:00<00:00, 606.12it/s]\n",
      "100%|███████████████████████████████████████████████████████████████████████████████| 200/200 [00:00<00:00, 619.20it/s]\n",
      "100%|███████████████████████████████████████████████████████████████████████████████| 200/200 [00:00<00:00, 595.12it/s]\n"
     ]
    }
   ],
   "source": [
    "un_bi_models, un_bi_accuracies, un_bi_predictions, un_bi_results  = train_on_folds(create_model, un_bi_gram_x, label_folds)"
   ]
  },
  {
   "cell_type": "code",
   "execution_count": 38,
   "metadata": {},
   "outputs": [
    {
     "name": "stdout",
     "output_type": "stream",
     "text": [
      "472632\n"
     ]
    }
   ],
   "source": [
    "print(len(un_bi_models[0].voc))"
   ]
  },
  {
   "cell_type": "code",
   "execution_count": 39,
   "metadata": {},
   "outputs": [
    {
     "name": "stdout",
     "output_type": "stream",
     "text": [
      "[0.795, 0.85, 0.84, 0.875, 0.81, 0.86, 0.83, 0.83, 0.845, 0.835]\n",
      "0.8370000000000001\n"
     ]
    }
   ],
   "source": [
    "print(un_bi_accuracies)\n",
    "print(compute_mean(un_bi_accuracies))"
   ]
  },
  {
   "cell_type": "code",
   "execution_count": 40,
   "metadata": {},
   "outputs": [
    {
     "name": "stderr",
     "output_type": "stream",
     "text": [
      "100%|███████████████████████████████████████████████████████████████████████████████| 200/200 [00:00<00:00, 371.06it/s]\n",
      "100%|███████████████████████████████████████████████████████████████████████████████| 200/200 [00:00<00:00, 312.74it/s]\n",
      "100%|███████████████████████████████████████████████████████████████████████████████| 200/200 [00:00<00:00, 346.62it/s]\n",
      "100%|███████████████████████████████████████████████████████████████████████████████| 200/200 [00:00<00:00, 341.30it/s]\n",
      "100%|███████████████████████████████████████████████████████████████████████████████| 200/200 [00:00<00:00, 374.34it/s]\n",
      "100%|███████████████████████████████████████████████████████████████████████████████| 200/200 [00:00<00:00, 334.51it/s]\n",
      "100%|███████████████████████████████████████████████████████████████████████████████| 200/200 [00:00<00:00, 278.93it/s]\n",
      "100%|███████████████████████████████████████████████████████████████████████████████| 200/200 [00:00<00:00, 304.02it/s]\n",
      "100%|███████████████████████████████████████████████████████████████████████████████| 200/200 [00:00<00:00, 355.21it/s]\n",
      "100%|███████████████████████████████████████████████████████████████████████████████| 200/200 [00:00<00:00, 324.15it/s]\n"
     ]
    }
   ],
   "source": [
    "un_bi_tri_gram_x = [to_n_grams(x, ns=[1,2, 3]) for x in review_folds]\n",
    "un_bi_tri_models, un_bi_tri_accuracies, un_bi_tri_predictions, un_bi_tri_results  = train_on_folds(create_model, un_bi_tri_gram_x, label_folds)"
   ]
  },
  {
   "cell_type": "code",
   "execution_count": 41,
   "metadata": {},
   "outputs": [
    {
     "name": "stdout",
     "output_type": "stream",
     "text": [
      "[0.79, 0.85, 0.835, 0.86, 0.82, 0.85, 0.85, 0.84, 0.85, 0.805]\n",
      "0.835\n"
     ]
    }
   ],
   "source": [
    "print(un_bi_tri_accuracies)\n",
    "print(compute_mean(un_bi_tri_accuracies))"
   ]
  },
  {
   "cell_type": "markdown",
   "metadata": {
    "id": "dVrGGArkrWoL"
   },
   "source": [
    "\n",
    "#### Q3.12: How many features does the BoW model have to take into account now? (0.5pt)\n",
    "How would you expect the number of features to increase theoretically (e.g., linear, square, cubed, exponential)? How does this number compare, in practice, to the number of features at (Q3.10)?\n",
    "\n",
    "Use the held-out training set once again for this.\n"
   ]
  },
  {
   "cell_type": "markdown",
   "metadata": {
    "id": "yEGZ9SV8pPaa"
   },
   "source": [
    "Theoretically I would expect that the number of features for O(m^n) where m is the number of unigrams and n is the highest ngram that we use. Because when we use n-grams with m words there are m^n possible different n_grams\n",
    "A lot of the n_grams do not appear in practice hence we would expect to have, in practice, a lot less feautures.\n",
    "As you can see from the prints below, a tiny fraction of the actual number of features is shown in the model that uses un, bi and tri-grams.\n"
   ]
  },
  {
   "cell_type": "code",
   "execution_count": 42,
   "metadata": {
    "id": "_z8sAJeUrdtM"
   },
   "outputs": [
    {
     "name": "stdout",
     "output_type": "stream",
     "text": [
      "unigram features:\n",
      "45329\n",
      "expected tri gram features: \n",
      "93138323146289\n",
      "actual number of tri gram features: \n",
      "1423850\n",
      "observed percentage: \n",
      "1.5287477290777613e-08\n"
     ]
    }
   ],
   "source": [
    "print(\"unigram features:\")\n",
    "print(len(models[0].voc))\n",
    "print(\"expected tri gram features: \")\n",
    "print(len(models[0].voc) ** 3)\n",
    "print(\"actual number of tri gram features: \")\n",
    "print(len(un_bi_tri_models[0].voc))\n",
    "print(\"observed percentage: \")\n",
    "print( len(un_bi_tri_models[0].voc) / len(models[0].voc) ** 3 )\n"
   ]
  },
  {
   "cell_type": "markdown",
   "metadata": {
    "id": "CHWKDL3YV6vh"
   },
   "source": [
    "# Support Vector Machines (4pts)"
   ]
  },
  {
   "cell_type": "markdown",
   "metadata": {
    "id": "hJSYhcVaoJGt"
   },
   "source": [
    "Though simple to understand, implement, and debug, one\n",
    "major problem with the Naive Bayes classifier is that its performance\n",
    "deteriorates (becomes skewed) when it is being used with features which\n",
    "are not independent (i.e., are correlated). Another popular classifier\n",
    "that doesn’t scale as well to big data, and is not as simple to debug as\n",
    "Naive Bayes, but that doesn’t assume feature independence is the Support\n",
    "Vector Machine (SVM) classifier.\n",
    "\n",
    "You can find more details about SVMs in Chapter 7 of Bishop: Pattern Recognition and Machine Learning.\n",
    "Other sources for learning SVM:\n",
    "* http://web.mit.edu/zoya/www/SVM.pdf\n",
    "* http://www.cs.columbia.edu/~kathy/cs4701/documents/jason_svm_tutorial.pdf\n",
    "* https://pythonprogramming.net/support-vector-machine-intro-machine-learning-tutorial/\n",
    "\n",
    "\n",
    "\n",
    "\n",
    "\n",
    "\n",
    "\n",
    "Use the scikit-learn implementation of \n",
    "[SVM](http://scikit-learn.org/stable/modules/svm.html) with the default parameters. (You are not expected to perform any hyperparameter tuning, but feel free to do it if you think it gives you good insights for the discussion in question 5.)\n",
    "\n"
   ]
  },
  {
   "cell_type": "markdown",
   "metadata": {
    "id": "0LnzNtQBV8gr"
   },
   "source": [
    "#### (Q4.1): Train SVM and compare to Naive Bayes (2pts)\n",
    "\n",
    "Train an SVM classifier (sklearn.svm.LinearSVC) using your features. Compare the\n",
    "classification performance of the SVM classifier to that of the Naive\n",
    "Bayes classifier with smoothing from (Q3.6) and report the numbers.\n",
    "Perform cross-validation and concatenate the predictions from all folds to compute the significance.  Are the results significantly better?\n",
    "\n"
   ]
  },
  {
   "cell_type": "code",
   "execution_count": 48,
   "metadata": {
    "id": "JBscui8Mvoz0"
   },
   "outputs": [
    {
     "name": "stderr",
     "output_type": "stream",
     "text": [
      "100%|███████████████████████████████████████████████████████████████████████████| 47743/47743 [01:24<00:00, 562.12it/s]\n"
     ]
    }
   ],
   "source": [
    "\n",
    "### First we need to create one_hot vectors for the features:\n",
    "\n",
    "\n",
    "def voc_to_one_hot(voc):\n",
    "    one_hot_mapping = {}\n",
    "    for i in tqdm(range(len(voc))):\n",
    "        word = voc[i]\n",
    "        one_hot_mapping[word] = np.zeros((len(voc)))\n",
    "        one_hot_mapping[word][i] += 1\n",
    "    return one_hot_mapping\n",
    "\n",
    "def create_voc_of_reviews(reviews):\n",
    "    sentences = []\n",
    "    for review in reviews:\n",
    "        whole_review = create_whole_review( review['content'])\n",
    "        sentences.append(whole_review)\n",
    "    voc = create_voc(sentences)\n",
    "    return voc\n",
    "\n",
    "\n",
    "voc = create_voc_of_reviews(reviews)\n",
    "one_hot_mapping = voc_to_one_hot(voc)\n",
    "\n",
    "\n",
    "\n"
   ]
  },
  {
   "cell_type": "code",
   "execution_count": 52,
   "metadata": {},
   "outputs": [
    {
     "name": "stdout",
     "output_type": "stream",
     "text": [
      "[0. 0. 0. ... 0. 0. 0.]\n",
      "1.0\n"
     ]
    }
   ],
   "source": [
    "print(one_hot_mapping[\"a\"])\n",
    "print(np.max(one_hot_mapping[\"a\"]))"
   ]
  },
  {
   "cell_type": "code",
   "execution_count": 105,
   "metadata": {},
   "outputs": [],
   "source": [
    "### Next we do a train_test_split:\n",
    "train_sentences, train_targets, test_sentences, test_targets = create_dataset_split(reviews, [i for i in range(0,10)], [i for i in range(900,1000)])"
   ]
  },
  {
   "cell_type": "code",
   "execution_count": 106,
   "metadata": {},
   "outputs": [],
   "source": [
    "### Then we map each sentence\n",
    "to_one_hot = lambda sentence: [one_hot_mapping[word] for word in sentence]\n",
    "train_sentences = [to_one_hot(sentence) for sentence in train_sentences]\n",
    "#test_sentences = [to_one_hot(sentence) for sentence in test_sentences]"
   ]
  },
  {
   "cell_type": "code",
   "execution_count": 107,
   "metadata": {},
   "outputs": [
    {
     "name": "stderr",
     "output_type": "stream",
     "text": [
      "100%|██████████████████████████████████████████████████████████████████████████████████| 20/20 [00:02<00:00,  8.92it/s]"
     ]
    },
    {
     "name": "stdout",
     "output_type": "stream",
     "text": [
      "[0. 0. 0. ... 0. 0. 0.]\n"
     ]
    },
    {
     "name": "stderr",
     "output_type": "stream",
     "text": [
      "\n"
     ]
    }
   ],
   "source": [
    "one_hot_train_sentences = []\n",
    "for i in tqdm(range(len(train_sentences))):\n",
    "    sentence = train_sentences[i]\n",
    "    one_hot_train_sentences.append(np.sum(sentence, axis=0))\n",
    "print(one_hot_train_sentences[0])"
   ]
  },
  {
   "cell_type": "code",
   "execution_count": 109,
   "metadata": {},
   "outputs": [
    {
     "data": {
      "text/plain": [
       "array([0, 0, 0, 0, 0, 0, 0, 0, 0, 0, 0, 1, 0, 1, 1, 1, 1, 1, 0, 0])"
      ]
     },
     "execution_count": 109,
     "metadata": {},
     "output_type": "execute_result"
    }
   ],
   "source": [
    "from sklearn import svm\n",
    "clf = svm.SVC()\n",
    "clf.fit(one_hot_train_sentences, train_targets)\n"
   ]
  },
  {
   "cell_type": "markdown",
   "metadata": {
    "id": "ifXVWcK0V9qY"
   },
   "source": [
    "### POS disambiguation (2pts)\n",
    "\n",
    "Now add in part-of-speech features. You will find the\n",
    "movie review dataset has already been POS-tagged for you ([here](https://catalog.ldc.upenn.edu/docs/LDC99T42/tagguid1.pdf) you find the tagset). Try to\n",
    "replicate the results obtained by Pang et al. (2002).\n",
    "\n"
   ]
  },
  {
   "cell_type": "markdown",
   "metadata": {
    "id": "xA3I82o4oWGu"
   },
   "source": [
    "####(Q4.2) Replace your features with word+POS features, and report performance with the SVM. Does this help? Perform cross-validation and concatenate the predictions from all folds to compute the significance. Are the results significant? *Why?*  (1pt)\n"
   ]
  },
  {
   "cell_type": "code",
   "execution_count": null,
   "metadata": {
    "id": "NOvjYe-t2Br6"
   },
   "outputs": [],
   "source": [
    "# YOUR CODE HERE"
   ]
  },
  {
   "cell_type": "markdown",
   "metadata": {
    "id": "L0dt_oQupUNe"
   },
   "source": [
    "*Write your answer here.*"
   ]
  },
  {
   "cell_type": "markdown",
   "metadata": {
    "id": "Su-3w87eMW0w"
   },
   "source": [
    "#### (Q4.3) Discard all closed-class words from your data (keep only nouns, verbs, adjectives, and adverbs), and report performance. Does this help? Perform cross-validation and concatenate the predictions from all folds to compute the significance. Are the results significantly better than when we don't discard the closed-class words? *Why?* (1pt)"
   ]
  },
  {
   "cell_type": "code",
   "execution_count": null,
   "metadata": {
    "id": "CCUPlPozCYUX"
   },
   "outputs": [],
   "source": [
    "# YOUR CODE HERE"
   ]
  },
  {
   "cell_type": "markdown",
   "metadata": {
    "id": "YaxCVrs8pWSp"
   },
   "source": [
    "*Write your answer here.*"
   ]
  },
  {
   "cell_type": "markdown",
   "metadata": {
    "id": "nfwqOciAl2No"
   },
   "source": [
    "# (Q5) Discussion (max. 500 words). (5pts)\n",
    "\n",
    "> Based on your experiments, what are the effective features and techniques in sentiment analysis? What information do different features encode?\n",
    "Why is this important? What are the limitations of these features and techniques?\n",
    " \n"
   ]
  },
  {
   "cell_type": "markdown",
   "metadata": {
    "id": "ZYuse5WLmekZ"
   },
   "source": [
    "*Write your answer here in up to 500 words (-0.25pt for >50 extra words, -0.5 points for >100 extra words, ...)*.\n"
   ]
  },
  {
   "cell_type": "markdown",
   "metadata": {
    "id": "iwaKwfWQhRk_"
   },
   "source": [
    "# Submission \n"
   ]
  },
  {
   "cell_type": "code",
   "execution_count": null,
   "metadata": {
    "id": "aOUeaET5ijk-"
   },
   "outputs": [],
   "source": [
    "# Write your names and student numbers here:\n",
    "# Student 1 #12345\n",
    "# Student 2 #12345"
   ]
  },
  {
   "cell_type": "markdown",
   "metadata": {
    "id": "3A9K-H6Tii3X"
   },
   "source": [
    "**That's it!**\n",
    "\n",
    "- Check if you answered all questions fully and correctly. \n",
    "- Download your completed notebook using `File -> Download .ipynb` \n",
    "- Check if your answers are all included in the file you submit.\n",
    "- Submit your .ipynb file via *Canvas*. One submission per group. "
   ]
  },
  {
   "cell_type": "code",
   "execution_count": null,
   "metadata": {
    "id": "YHslatYAKBrF"
   },
   "outputs": [],
   "source": []
  }
 ],
 "metadata": {
  "colab": {
   "collapsed_sections": [
    "uhU_tk-BOaXb"
   ],
   "name": "NLP1 2020 Practical 1 (student version)",
   "provenance": [],
   "toc_visible": true
  },
  "kernelspec": {
   "display_name": "Python 3",
   "language": "python",
   "name": "python3"
  },
  "language_info": {
   "codemirror_mode": {
    "name": "ipython",
    "version": 3
   },
   "file_extension": ".py",
   "mimetype": "text/x-python",
   "name": "python",
   "nbconvert_exporter": "python",
   "pygments_lexer": "ipython3",
   "version": "3.7.9"
  }
 },
 "nbformat": 4,
 "nbformat_minor": 1
}
