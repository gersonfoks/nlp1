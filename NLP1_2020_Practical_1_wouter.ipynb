{
 "cells": [
  {
   "cell_type": "markdown",
   "metadata": {
    "id": "lIZrAUx57vsM"
   },
   "source": [
    "Practical 1: Sentiment Detection in Movie Reviews\n",
    "========================================\n",
    "\n"
   ]
  },
  {
   "cell_type": "markdown",
   "metadata": {
    "id": "J4kXPMhyngZW"
   },
   "source": [
    "This practical concerns detecting sentiment in movie reviews. This is a typical NLP classification task.\n",
    "In [this file](https://gist.githubusercontent.com/bastings/d47423301cca214e3930061a5a75e177/raw/5113687382919e22b1f09ce71a8fecd1687a5760/reviews.json) (80MB) you will find 1000 positive and 1000 negative **movie reviews**.\n",
    "Each review is a **document** and consists of one or more sentences.\n",
    "\n",
    "To prepare yourself for this practical, you should\n",
    "have a look at a few of these texts to understand the difficulties of\n",
    "the task: how might one go about classifying the texts? You will write\n",
    "code that decides whether a movie review conveys positive or\n",
    "negative sentiment.\n",
    "\n",
    "Please make sure you have read the following paper:\n",
    "\n",
    ">   Bo Pang, Lillian Lee, and Shivakumar Vaithyanathan\n",
    "(2002). \n",
    "[Thumbs up? Sentiment Classification using Machine Learning\n",
    "Techniques](https://dl.acm.org/citation.cfm?id=1118704). EMNLP.\n",
    "\n",
    "Bo Pang et al. were the \"inventors\" of the movie review sentiment\n",
    "classification task, and the above paper was one of the first papers on\n",
    "the topic. The first version of your sentiment classifier will do\n",
    "something similar to Pang et al.'s system. If you have questions about it,\n",
    "you should resolve as soon as possible with your TA.\n"
   ]
  },
  {
   "cell_type": "markdown",
   "metadata": {
    "id": "cb7errgRASzZ"
   },
   "source": [
    "**Advice**\n",
    "\n",
    "Please read through the entire practical and familiarise\n",
    "yourself with all requirements before you start coding or otherwise\n",
    "solving the tasks. Writing clean and concise code can make the difference\n",
    "between solving the assignment in a matter of hours, and taking days to\n",
    "run all experiments.\n",
    "\n",
    "## Environment\n",
    "\n",
    "All code should be written in **Python 3**. \n",
    "This is the default in Google Colab."
   ]
  },
  {
   "cell_type": "code",
   "execution_count": 1,
   "metadata": {
    "id": "SaZnxptMJiD7"
   },
   "outputs": [
    {
     "name": "stdout",
     "output_type": "stream",
     "text": [
      "Python 3.7.9\n"
     ]
    }
   ],
   "source": [
    "!python --version"
   ]
  },
  {
   "cell_type": "markdown",
   "metadata": {
    "id": "BYZyIF7lJnGn"
   },
   "source": [
    "If you want to run code on your own computer, then download this notebook through `File -> Download .ipynb`.\n",
    "The easiest way to\n",
    "install Python is through downloading\n",
    "[Anaconda](https://www.anaconda.com/download). \n",
    "After installation, you can start the notebook by typing `jupyter notebook filename.ipynb`.\n",
    "You can also use an IDE\n",
    "such as [PyCharm](https://www.jetbrains.com/pycharm/download/) to make\n",
    "coding and debugging easier. It is good practice to create a [virtual\n",
    "environment](https://docs.python.org/3/tutorial/venv.html) for this\n",
    "project, so that any Python packages don’t interfere with other\n",
    "projects. \n",
    " \n",
    "\n",
    "**Learning Python 3**\n",
    "\n",
    "If you are new to Python 3, you may want to check out a few of these resources:\n",
    "- https://learnxinyminutes.com/docs/python3/\n",
    "- https://www.learnpython.org/\n",
    "- https://docs.python.org/3/tutorial/"
   ]
  },
  {
   "cell_type": "code",
   "execution_count": 2,
   "metadata": {
    "id": "hok-BFu9lGoK"
   },
   "outputs": [],
   "source": [
    "import math\n",
    "import os\n",
    "import sys\n",
    "from subprocess import call\n",
    "from nltk import FreqDist\n",
    "from nltk.util import ngrams\n",
    "from nltk.stem.porter import PorterStemmer\n",
    "import sklearn as sk\n",
    "# from google.colab import drive\n",
    "import pickle\n",
    "import json\n",
    "from collections import Counter\n",
    "import requests\n",
    "import matplotlib.pyplot as plt\n",
    "import numpy as np"
   ]
  },
  {
   "cell_type": "markdown",
   "metadata": {
    "id": "bXWyGHwE-ieQ"
   },
   "source": [
    "## Loading the data\n",
    "\n",
    "**Download the sentiment lexicon and the movie reviews dataset.**"
   ]
  },
  {
   "cell_type": "code",
   "execution_count": 3,
   "metadata": {
    "id": "lm-rakqtlMOT"
   },
   "outputs": [
    {
     "name": "stdout",
     "output_type": "stream",
     "text": [
      "--2020-11-11 13:46:30--  https://gist.githubusercontent.com/bastings/d6f99dcb6c82231b94b013031356ba05/raw/f80a0281eba8621b122012c89c8b5e2200b39fd6/sent_lexicon\n",
      "Resolving gist.githubusercontent.com (gist.githubusercontent.com)... 151.101.36.133\n",
      "Connecting to gist.githubusercontent.com (gist.githubusercontent.com)|151.101.36.133|:443... connected.\n",
      "HTTP request sent, awaiting response... 200 OK\n",
      "Length: 662577 (647K) [text/plain]\n",
      "Saving to: ‘sent_lexicon.8’\n",
      "\n",
      "sent_lexicon.8      100%[===================>] 647,05K  --.-KB/s    in 0,08s   \n",
      "\n",
      "2020-11-11 13:46:30 (7,66 MB/s) - ‘sent_lexicon.8’ saved [662577/662577]\n",
      "\n",
      "--2020-11-11 13:46:30--  https://gist.githubusercontent.com/bastings/d47423301cca214e3930061a5a75e177/raw/5113687382919e22b1f09ce71a8fecd1687a5760/reviews.json\n",
      "Resolving gist.githubusercontent.com (gist.githubusercontent.com)... 151.101.36.133\n",
      "Connecting to gist.githubusercontent.com (gist.githubusercontent.com)|151.101.36.133|:443... connected.\n",
      "HTTP request sent, awaiting response... 200 OK\n",
      "Length: 83503869 (80M) [text/plain]\n",
      "Saving to: ‘reviews.json.8’\n",
      "\n",
      "reviews.json.8      100%[===================>]  79,63M  14,5MB/s    in 5,6s    \n",
      "\n",
      "2020-11-11 13:46:36 (14,2 MB/s) - ‘reviews.json.8’ saved [83503869/83503869]\n",
      "\n"
     ]
    }
   ],
   "source": [
    "# download sentiment lexicon\n",
    "!wget https://gist.githubusercontent.com/bastings/d6f99dcb6c82231b94b013031356ba05/raw/f80a0281eba8621b122012c89c8b5e2200b39fd6/sent_lexicon\n",
    "# download review data\n",
    "!wget https://gist.githubusercontent.com/bastings/d47423301cca214e3930061a5a75e177/raw/5113687382919e22b1f09ce71a8fecd1687a5760/reviews.json"
   ]
  },
  {
   "cell_type": "markdown",
   "metadata": {
    "id": "AkPwuHp5LSuQ"
   },
   "source": [
    "**Load the movie reviews.**\n",
    "\n",
    "Each word in a review comes with its part-of-speech tag. For documentation on POS-tags, see https://catalog.ldc.upenn.edu/docs/LDC99T42/tagguid1.pdf.\n"
   ]
  },
  {
   "cell_type": "code",
   "execution_count": 4,
   "metadata": {
    "id": "careEKj-mRpl"
   },
   "outputs": [
    {
     "name": "stdout",
     "output_type": "stream",
     "text": [
      "Total number of reviews: 2000 \n",
      "\n",
      "0 NEG 29\n",
      "Two/CD teen/JJ couples/NNS go/VBP to/TO a/DT church/NN party/NN ,/, drink/NN and/CC then/RB drive/NN ./.\n",
      "1 NEG 11\n",
      "Damn/JJ that/IN Y2K/CD bug/NN ./.\n",
      "2 NEG 24\n",
      "It/PRP is/VBZ movies/NNS like/IN these/DT that/WDT make/VBP a/DT jaded/JJ movie/NN viewer/NN thankful/JJ for/IN the/DT invention/NN of/IN the/DT Timex/NNP IndiGlo/NNP watch/NN ./.\n",
      "3 NEG 19\n",
      "QUEST/NN FOR/IN CAMELOT/NNP ``/`` Quest/NNP for/IN Camelot/NNP ''/'' is/VBZ Warner/NNP Bros./NNP '/POS first/JJ feature-length/JJ ,/, fully-animated/JJ attempt/NN to/TO steal/VB clout/NN from/IN Disney/NNP 's/POS cartoon/NN empire/NN ,/, but/CC the/DT mouse/NN has/VBZ no/DT reason/NN to/TO be/VB worried/VBN ./.\n",
      "4 NEG 38\n",
      "Synopsis/NNPS :/: A/DT mentally/RB unstable/JJ man/NN undergoing/VBG psychotherapy/NN saves/VBZ a/DT boy/NN from/IN a/DT potentially/RB fatal/JJ accident/NN and/CC then/RB falls/VBZ in/IN love/NN with/IN the/DT boy/NN 's/POS mother/NN ,/, a/DT fledgling/NN restauranteur/NN ./.\n",
      "\n",
      "Number of word types: 47743\n",
      "Number of word tokens: 1512359\n",
      "\n",
      "Most common tokens:\n",
      "         , :    77842\n",
      "       the :    75948\n",
      "         . :    59027\n",
      "         a :    37583\n",
      "       and :    35235\n",
      "        of :    33864\n",
      "        to :    31601\n",
      "        is :    25972\n",
      "        in :    21563\n",
      "        's :    18043\n",
      "        it :    15904\n",
      "      that :    15820\n",
      "     -rrb- :    11768\n",
      "     -lrb- :    11670\n",
      "        as :    11312\n",
      "      with :    10739\n",
      "       for :     9816\n",
      "       his :     9542\n",
      "      this :     9497\n",
      "      film :     9404\n"
     ]
    }
   ],
   "source": [
    "# file structure:\n",
    "# [\n",
    "#  {\"cv\": integer, \"sentiment\": str, \"content\": list} \n",
    "#  {\"cv\": integer, \"sentiment\": str, \"content\": list} \n",
    "#   ..\n",
    "# ]\n",
    "# where `content` is a list of sentences, \n",
    "# with a sentence being a list of (token, pos_tag) pairs.\n",
    "\n",
    "\n",
    "with open(\"reviews.json\", mode=\"r\", encoding=\"utf-8\") as f:\n",
    "    reviews = json.load(f)\n",
    "\n",
    "print(\"Total number of reviews:\", len(reviews), '\\n')\n",
    "\n",
    "def print_sentence_with_pos(s):\n",
    "    print(\" \".join(\"%s/%s\" % (token, pos_tag) for token, pos_tag in s))\n",
    "\n",
    "for i, r in enumerate(reviews):\n",
    "    print(r[\"cv\"], r[\"sentiment\"], len(r[\"content\"]))  # cv, sentiment, num sents\n",
    "    print_sentence_with_pos(r[\"content\"][0])\n",
    "    if i == 4: \n",
    "        break\n",
    "\n",
    "c = Counter()\n",
    "for review in reviews:\n",
    "    for sentence in review[\"content\"]:\n",
    "        for token, pos_tag in sentence:\n",
    "            c[token.lower()] += 1\n",
    "\n",
    "print(\"\\nNumber of word types:\", len(c))\n",
    "print(\"Number of word tokens:\", sum(c.values()))\n",
    "\n",
    "print(\"\\nMost common tokens:\")\n",
    "for token, count in c.most_common(20):\n",
    "    print(\"%10s : %8d\" % (token, count))\n",
    "  "
   ]
  },
  {
   "cell_type": "markdown",
   "metadata": {
    "id": "E6PWaEoh8B34"
   },
   "source": [
    "# Lexicon-based approach (2+1pts)\n",
    "\n"
   ]
  },
  {
   "cell_type": "markdown",
   "metadata": {
    "id": "JsTSMb6ma4E8"
   },
   "source": [
    "A traditional approach to automatically classify documents according to their sentiment is the lexicon-based approach. To implement this approach, you need a **sentiment lexicon**, i.e., a list of words annotated with a sentiment label (e.g., positive and negative) or a sentiment score (e.g., a score from 0 to 5).\n",
    "\n",
    "In this practical, you will use the sentiment\n",
    "lexicon released by Wilson et al. (2005). The path of the loaded lexicon is `\"sent_lexicon\"`.\n",
    "\n",
    "> Theresa Wilson, Janyce Wiebe, and Paul Hoffmann\n",
    "(2005). [Recognizing Contextual Polarity in Phrase-Level Sentiment\n",
    "Analysis](http://www.aclweb.org/anthology/H/H05/H05-1044.pdf). HLT-EMNLP.\n",
    "\n",
    "Pay attention to all the information available in the sentiment lexicon. The field *word1* contains the lemma, *priorpolarity* contains the sentiment label (positive, negative, both, or neutral), *type* gives you the magnitude of the word's sentiment (strong or weak), and *pos1* gives you the part-of-speech tag of the lemma. Some lemmas can have multiple part-of-speech tags and thus multiple entries in the lexicon.\n"
   ]
  },
  {
   "cell_type": "markdown",
   "metadata": {
    "id": "MCHUMmb0SZxy"
   },
   "source": [
    "Pay attention to all the information available in the sentiment lexicon. The field *word1* contains the lemma, *priorpolarity* contains the sentiment label (positive, negative, both, or neutral), *type* gives you the magnitude of the word's sentiment (strong or weak), and *pos1* gives you the part-of-speech tag of the lemma. Some lemmas can have multiple part-of-speech tags and thus multiple entries in the lexicon."
   ]
  },
  {
   "cell_type": "code",
   "execution_count": 5,
   "metadata": {
    "id": "Ogq0Eq2hQglh"
   },
   "outputs": [
    {
     "name": "stdout",
     "output_type": "stream",
     "text": [
      "type=weaksubj len=1 word1=abandoned pos1=adj stemmed1=n priorpolarity=negative\n",
      "type=weaksubj len=1 word1=abandonment pos1=noun stemmed1=n priorpolarity=negative\n",
      "type=weaksubj len=1 word1=abandon pos1=verb stemmed1=y priorpolarity=negative\n",
      "type=strongsubj len=1 word1=abase pos1=verb stemmed1=y priorpolarity=negative\n",
      "type=strongsubj len=1 word1=abasement pos1=anypos stemmed1=y priorpolarity=negative\n"
     ]
    }
   ],
   "source": [
    "with open(\"sent_lexicon\", mode=\"r\", encoding=\"utf-8\") as f:\n",
    "    line_cnt = 0\n",
    "    for line in f:\n",
    "        print(line.strip())\n",
    "        line_cnt += 1\n",
    "        if line_cnt > 4:\n",
    "            break"
   ]
  },
  {
   "cell_type": "markdown",
   "metadata": {
    "id": "Mml4nOtIUBhn"
   },
   "source": [
    "Given such a sentiment lexicon, there are ways to solve\n",
    "the classification task without using Machine Learning. For example, one might look up every word $w_1 ... w_n$ in a document, and compute a **binary score**\n",
    "$S_{binary}$ by counting how many words have a positive or a\n",
    "negative label in the sentiment lexicon $SLex$.\n",
    "\n",
    "$$S_{binary}(w_1 w_2 ... w_n) = \\sum_{i = 1}^{n}\\text{sign}(SLex\\big[w_i\\big])$$\n",
    "\n",
    "where $\\text{sign}(SLex\\big[w_i\\big])$ refers to the polarity of $w_i$.\n",
    "\n",
    "**Threshold.** On average, there are more positive than negative words per review (~7.13 more positive than negative per review) to take this bias into account you should use a threshold of **8** (roughly the bias itself) to make it harder to classify as positive.\n",
    "\n",
    "$$\n",
    "\\text{classify}(S_{binary}(w_1 w_2 ... w_n)) = \\bigg\\{\\begin{array}{ll}\n",
    "        \\text{positive} & \\text{if } S_{binary}(w_1w_2...w_n) > threshold\\\\\n",
    "        \\text{negative} & \\text{otherwise}\n",
    "        \\end{array}\n",
    "$$\n"
   ]
  },
  {
   "cell_type": "markdown",
   "metadata": {
    "id": "tOFnMvbeeZrc"
   },
   "source": [
    "#### (Q1.1) Implement this approach and report its classification accuracy. (1 pt)"
   ]
  },
  {
   "cell_type": "code",
   "execution_count": 6,
   "metadata": {
    "id": "ED2aTEYutW1-"
   },
   "outputs": [],
   "source": [
    "### First we create the dataset in a nice format\n",
    "def create_whole_review(content):\n",
    "    whole_review = []\n",
    "    for sentence in content:\n",
    "        whole_review += [word.lower() for word in np.array(sentence)[:, 0]]\n",
    "    return whole_review\n",
    "\n",
    "def create_dataset(reviews):\n",
    "    targets = []\n",
    "    sentences = []\n",
    "    for review in reviews:\n",
    "        targets.append(int( review['sentiment'] == 'POS'))\n",
    "        whole_review = create_whole_review(review['content'])\n",
    "        sentences.append(whole_review)\n",
    "    return sentences, targets\n",
    "\n",
    "sentences, targets = create_dataset(reviews)\n"
   ]
  },
  {
   "cell_type": "code",
   "execution_count": 7,
   "metadata": {},
   "outputs": [],
   "source": [
    "### Load the lexixon in a default dict\n",
    "from collections import defaultdict\n",
    "\n",
    "\n",
    "sentiments = {\n",
    "    'positive': 1,\n",
    "    'negative': -1,\n",
    "    'both': 0,\n",
    "    'neutral': 0\n",
    "}\n",
    "\n",
    "def get_slex(ref=\"sent_lexicon\"):\n",
    "    '''\n",
    "    ref: reference of the file\n",
    "\n",
    "    returns: Defaultdictionary{word:  sentiment score} \n",
    "    '''\n",
    "    slex = defaultdict(float)\n",
    "    \n",
    "    ## indexes\n",
    "    key_index = 2\n",
    "    key_strip = \"word1=\"\n",
    "    value_index = 5\n",
    "    value_strip = \"priorpolarity=\"\n",
    "    \n",
    "    magnitude_index = 0\n",
    "    magnitude_strip = \"type=\"\n",
    "    \n",
    "    magnitude_choices = defaultdict(float, {\n",
    "        \"weaksubj\": 1.0,\n",
    "        \"strongsubj\": 2.0\n",
    "    })\n",
    "    \n",
    "    with open(\"sent_lexicon\", mode=\"r\", encoding=\"utf-8\") as f:\n",
    "        for line in f:\n",
    "            line_arr = line.split()\n",
    "            magnitude = magnitude_choices[ line_arr[magnitude_index].replace(magnitude_strip, \"\")]\n",
    "            sentiment = sentiments[line_arr[value_index].replace(value_strip, \"\")]\n",
    "            slex[line_arr[key_index].replace(key_strip, \"\")] =  magnitude * sentiment\n",
    "    return slex\n",
    "\n",
    "    \n",
    "slex = get_slex()\n",
    "\n",
    "\n",
    "class BinarySentimentClassifier:\n",
    "    \n",
    "    def __init__(self, slex, threshold):\n",
    "        self.slex = slex\n",
    "        self.threshold = threshold\n",
    "\n",
    "    def predict(self, sentences):\n",
    "        return [int(self.binary_sentiment(sentence) > self.threshold) for sentence in sentences]\n",
    "    \n",
    "    def binary_sentiment(self, sentence):\n",
    "        '''\n",
    "        sentence: sentence to calculate the sentiment from\n",
    "        returns the binary sentiment score of a sentence given the sentiment lexicon\n",
    "        '''\n",
    "        return np.sum([np.sign(self.slex[word]) for word in sentence])\n",
    "\n",
    "\n",
    "# Create the classifier:\n",
    "bin_sent_model = BinarySentimentClassifier(slex, 8)\n",
    "predictions = bin_sent_model.predict(sentences)"
   ]
  },
  {
   "cell_type": "code",
   "execution_count": 8,
   "metadata": {},
   "outputs": [],
   "source": [
    "def calculate_results(predictions, targets):\n",
    "    return np.array(predictions) == np.array(targets)\n",
    "\n",
    "def calculate_accuracy(predictions, targets):\n",
    "    return np.sum(calculate_results(predictions, targets)) / len(targets)"
   ]
  },
  {
   "cell_type": "code",
   "execution_count": 9,
   "metadata": {
    "id": "iy528EUTphz5"
   },
   "outputs": [
    {
     "name": "stdout",
     "output_type": "stream",
     "text": [
      "Accuracy: 0.68\n"
     ]
    }
   ],
   "source": [
    "# token_results should be a list of binary indicators; for example [1, 0, 1, ...] \n",
    "# where 1 indicates a correct classification and 0 an incorrect classification.\n",
    "token_results = predictions\n",
    "token_accuracy = calculate_accuracy(predictions, targets)\n",
    "print(\"Accuracy: %0.2f\" % token_accuracy)"
   ]
  },
  {
   "cell_type": "markdown",
   "metadata": {
    "id": "Twox0s_3eS0V"
   },
   "source": [
    "As the sentiment lexicon also has information about the **magnitude** of\n",
    "sentiment (e.g., *“excellent\"* would have higher magnitude than\n",
    "*“good\"*), we can take a more fine-grained approach by adding up all\n",
    "sentiment scores, and deciding the polarity of the movie review using\n",
    "the sign of the weighted score $S_{weighted}$.\n",
    "\n",
    "$$S_{weighted}(w_1w_2...w_n) = \\sum_{i = 1}^{n}SLex\\big[w_i\\big]$$\n",
    "\n",
    "\n",
    "Make sure you define an appropriate threshold for this approach.\n",
    "\n",
    "#### (Q1.2) Now incorporate magnitude information and report the classification accuracy. Don't forget to use the threshold. (1 pt)"
   ]
  },
  {
   "cell_type": "code",
   "execution_count": 10,
   "metadata": {
    "id": "qG3hUDnPtkhS"
   },
   "outputs": [
    {
     "name": "stdout",
     "output_type": "stream",
     "text": [
      "10.8195\n"
     ]
    }
   ],
   "source": [
    "### The calculate the bias we calculate the avarage sentiment of each review. \n",
    "avg = 0\n",
    "total = 0\n",
    "for sentence in sentences:\n",
    "    total += np.sum([slex[word] for word in sentence])\n",
    "avg = total / len(sentences)\n",
    "print(avg)"
   ]
  },
  {
   "cell_type": "code",
   "execution_count": 11,
   "metadata": {},
   "outputs": [],
   "source": [
    "class MagnitudeClassifier:\n",
    "    \n",
    "    def __init__(self, slex, threshold):\n",
    "        self.slex = slex\n",
    "        self.threshold = threshold\n",
    "\n",
    "    def predict(self, sentences):\n",
    "        return [int(self.binary_sentiment(sentence) > self.threshold) for sentence in sentences]\n",
    "    \n",
    "    def binary_sentiment(self, sentence):\n",
    "        '''\n",
    "        sentence: sentence to calculate the sentiment from\n",
    "        returns the binary sentiment score of a sentence given the sentiment lexicon\n",
    "        '''\n",
    "        return np.sum([self.slex[word] for word in sentence])\n",
    "\n",
    "magnitude_model = MagnitudeClassifier(slex, avg)\n",
    "predictions = magnitude_model.predict(sentences)"
   ]
  },
  {
   "cell_type": "code",
   "execution_count": 12,
   "metadata": {
    "id": "9vVk7CvDpyka"
   },
   "outputs": [
    {
     "name": "stdout",
     "output_type": "stream",
     "text": [
      "Accuracy: 0.69\n"
     ]
    }
   ],
   "source": [
    "magnitude_results = predictions\n",
    "magnitude_accuracy = calculate_accuracy(predictions, targets)\n",
    "print(\"Accuracy: %0.2f\" % magnitude_accuracy)"
   ]
  },
  {
   "cell_type": "markdown",
   "metadata": {
    "id": "h9SHoGPfsAHV"
   },
   "source": [
    "#### Make a barplot of the two results."
   ]
  },
  {
   "cell_type": "code",
   "execution_count": 13,
   "metadata": {
    "id": "8LgBcYcXsEk3"
   },
   "outputs": [
    {
     "data": {
      "image/png": "[encoded data removed]",
      "text/plain": [
       "<Figure size 432x288 with 1 Axes>"
      ]
     },
     "metadata": {
      "needs_background": "light"
     },
     "output_type": "display_data"
    }
   ],
   "source": [
    "plt.bar(['Token Accuracy', 'Magnitude Accuracy'], [token_accuracy, magnitude_accuracy])\n",
    "plt.show()"
   ]
  },
  {
   "cell_type": "markdown",
   "metadata": {
    "id": "sNhS8OCVxMHd"
   },
   "source": [
    "## (Q1.3 Optional) A better threshold (1pt)\n",
    "Above we have defined a threshold to account for an inherent bias in the dataset: there are more positive than negative words per review.\n",
    "However, that threshold does not take into account *document length*. Explain why this is a problem and implement an alternative way to compute the threshold."
   ]
  },
  {
   "cell_type": "markdown",
   "metadata": {
    "id": "xo7gk1I-omLI"
   },
   "source": [
    "*Write your answer here.*"
   ]
  },
  {
   "cell_type": "code",
   "execution_count": 14,
   "metadata": {
    "id": "Dwt0B8h8aKjr"
   },
   "outputs": [],
   "source": [
    "# YOUR CODE HERE"
   ]
  },
  {
   "cell_type": "markdown",
   "metadata": {
    "id": "6MFrz8Jink0D"
   },
   "source": [
    "# Significance testing"
   ]
  },
  {
   "cell_type": "markdown",
   "metadata": {
    "id": "kxkxrldT9Ymc"
   },
   "source": [
    "Does using the magnitude improve the results? Oftentimes, answering such questions by simply comparing accuracy\n",
    "scores is not enough. When dealing with natural language and human ratings, it is safe to assume that there are infinitely many possible\n",
    "instances that could be used for training and testing, of which the ones\n",
    "we actually train and test on are a tiny sample. Thus, it is possible\n",
    "that observed differences in the reported performance are due to mere chance.\n",
    "\n",
    "There exist statistical methods which can be used to check for\n",
    "consistency (*statistical significance*) in the results, and one of the\n",
    "simplest such tests is the **sign test**. \n",
    "\n",
    "The sign test is based on the binomial distribution. Count all cases when System 1 is better than System 2, when System 2 is better than System 1, and when they are the same. Call these numbers $Plus$, $Minus$ and $Null$ respectively. \n",
    "\n",
    "The sign test returns the probability that the null hypothesis is true. \n",
    "\n",
    "This probability is called the $p$-value and it can be calculated for the two-sided sign test using the following formula (we multiply by two because this is a two-sided sign test and tests for the significance of differences in either direction):\n",
    "\n",
    "$$2 \\, \\sum\\limits_{i=0}^{k} \\binom{N}{i} \\, q^i \\, (1-q)^{N-i}$$\n",
    "\n",
    "where $$N = 2 \\Big\\lceil \\frac{Null}{2}\\Big\\rceil + Plus + Minus$$ is the total\n",
    "number of cases, and\n",
    "$$k = \\Big\\lceil \\frac{Null}{2}\\Big\\rceil + \\min\\{Plus,Minus\\}$$ is the number of\n",
    "cases with the less common sign. \n",
    "\n",
    "Here, we\n",
    "treat ties by adding half a point to either side, rounding up to the\n",
    "nearest integer if necessary. \n",
    "\n",
    "In this experiment, $q = 0.5$, so the formula simplifies to:\n",
    "$$2\\times 0.5^N\\, \\sum\\limits_{i=0}^{k} \\binom{N}{i}$$\n",
    "\n",
    "\n",
    "We use the `comb` function from `scipy` and the `decimal` package for the stable adding of numbers in the final summation.\n"
   ]
  },
  {
   "cell_type": "code",
   "execution_count": 15,
   "metadata": {
    "id": "de5l4oPkE-BS"
   },
   "outputs": [
    {
     "name": "stdout",
     "output_type": "stream",
     "text": [
      "the difference is significant\n",
      "p_value = 0.03184017913766053027437965388\n"
     ]
    }
   ],
   "source": [
    "from decimal import Decimal\n",
    "from scipy.special import comb\n",
    "\n",
    "\n",
    "def sign_test(results_1, results_2):\n",
    "    \"\"\"test for significance\"\"\"\n",
    "    ties, plus, minus = 0, 0, 0\n",
    "\n",
    "    for i in range(0, len(results_1)):\n",
    "        if results_1[i]==results_2[i]:\n",
    "            ties += 1\n",
    "        elif results_1[i]==0: \n",
    "            plus += 1\n",
    "        elif results_2[i]==0: \n",
    "            minus += 1\n",
    "\n",
    "    n = (2 * math.ceil(ties/2.0)) + plus + minus\n",
    "    k = math.ceil(ties/2.0) + min(plus,minus)\n",
    "\n",
    "    summation = Decimal(0.0)\n",
    "    for i in range(0,int(k)+1):\n",
    "        summation += (Decimal(comb(n,i,exact=True)))\n",
    "\n",
    "    # use two-tailed version of test\n",
    "    summation *= 2\n",
    "    summation *= (Decimal(0.5)**Decimal(n))\n",
    "\n",
    "    print(\"the difference is\", \n",
    "    \"not significant\" if summation >= 0.05 else \"significant\")\n",
    "\n",
    "    return summation\n",
    "\n",
    "p_value = sign_test(token_results, magnitude_results)\n",
    "print(\"p_value =\", p_value)"
   ]
  },
  {
   "cell_type": "markdown",
   "metadata": {
    "id": "uhU_tk-BOaXb"
   },
   "source": [
    "### Using the Sign test\n",
    "\n",
    "**From now on, report all differences between systems, as well as between system configurations, using the\n",
    "sign test.**\n",
    "    \n",
    "You should report statistical test\n",
    "results in an appropriate form. If there are several different methods\n",
    "(i.e., systems) to compare, the Sign test can only be applied to pairs of them\n",
    "at a time. When reporting these pair-wise differences, you should\n",
    "summarise trends to avoid redundancy.\n"
   ]
  },
  {
   "cell_type": "markdown",
   "metadata": {
    "id": "LibV4nR89BXb"
   },
   "source": [
    "# Naive Bayes (10pt)"
   ]
  },
  {
   "cell_type": "markdown",
   "metadata": {
    "id": "fnF9adQnuwia"
   },
   "source": [
    "\n",
    "Your second task is to program a simple Machine Learning approach that operates\n",
    "on a simple Bag-of-Words (BoW) representation of the text data, as\n",
    "described by Pang et al. (2002). In this approach, the only features we\n",
    "will consider are the words in the text themselves, without bringing in\n",
    "external sources of information. The BoW model is a popular way of\n",
    "representing texts as vectors, making it\n",
    "easy to apply classical Machine Learning algorithms on NLP tasks.\n",
    "However, the BoW representation is also very crude, since it discards\n",
    "all information related to word order and grammatical structure in the\n",
    "original text—as the name suggests.\n",
    "\n",
    "## Writing your own classifier (4pts)\n",
    "\n",
    "Write your own code to implement the Naive Bayes (NB) classifier. As\n",
    "a reminder, the Naive Bayes classifier works according to the following\n",
    "equation:\n",
    "$$\\hat{c} = \\operatorname*{arg\\,max}_{c \\in C} P(c|\\bar{f}) = \\operatorname*{arg\\,max}_{c \\in C} P(c)\\prod^n_{i=1} P(f_i|c)$$\n",
    "where $C = \\{ \\text{POS}, \\text{NEG} \\}$ is the set of possible classes,\n",
    "$\\hat{c} \\in C$ is the most probable class, and $\\bar{f}$ is the feature\n",
    "vector. Remember that we use the log of these probabilities when making\n",
    "a prediction:\n",
    "$$\\hat{c} = \\operatorname*{arg\\,max}_{c \\in C} \\Big\\{\\log P(c) + \\sum^n_{i=1} \\log P(f_i|c)\\Big\\}$$\n",
    "\n",
    "You can find more details about Naive Bayes in [Jurafsky &\n",
    "Martin](https://web.stanford.edu/~jurafsky/slp3/). You can also look at\n",
    "this helpful\n",
    "[pseudo-code](https://nlp.stanford.edu/IR-book/html/htmledition/naive-bayes-text-classification-1.html).\n",
    "\n",
    "*Note: this section and the next aim to put you in a position to replicate\n",
    "    Pang et al.'s Naive Bayes results. However, your numerical results\n",
    "    will differ from theirs, as they used different data.*\n",
    "\n",
    "**You must write the Naive Bayes training and prediction code from\n",
    "scratch.** You will not be given credit for using off-the-shelf Machine\n",
    "Learning libraries.\n",
    "\n",
    "The data contains the text of the reviews, where each document consists\n",
    "of the sentences in the review, the sentiment of the review and an index\n",
    "(cv) that you will later use for cross-validation. The\n",
    "text has already been tokenised and POS-tagged for you. Your algorithm\n",
    "should read in the text, **lowercase it**, store the words and their\n",
    "frequencies in an appropriate data structure that allows for easy\n",
    "computation of the probabilities used in the Naive Bayes algorithm, and\n",
    "then make predictions for new instances.\n"
   ]
  },
  {
   "cell_type": "markdown",
   "metadata": {
    "id": "vEpyQSBSkb33"
   },
   "source": [
    "#### (Q3.1) Unseen words (1pt)\n",
    "The presence of words in the test dataset that\n",
    "have not been seen during training can cause probabilities in the Naive Bayes classifier to equal $0$.\n",
    "These can be words which are unseen in both positive and negative training reviews (case 1), but also words which are seen in reviews _of only one sentiment class_ in the training dataset (case 2). In both cases, **you should skip these words for both classes**. \n",
    "\n",
    "In case 2, you could also set $P(c|\\bar{f}) = 0$ for the class $c$ within which $f_i \\in \\bar{f}$ was not seen. One way to implement this in log space is to set $P(c|\\bar{f}) = -\\infty$. What would be the problem instead with skipping words only for one class in case 2? "
   ]
  },
  {
   "cell_type": "markdown",
   "metadata": {
    "id": "BanFiYYnoxDW"
   },
   "source": [
    "*Write your answer here.*\n",
    "If we do not skip this class, a review with this word only seen in one class will always get probability 0 of belonging to the other class. This happens regardless of all the other words in the review. So we could have a review with all positive words and one word never seen in the positive class, this would now get a probability 0 of being positive. Thats not very sensible. If we have multiple of such words, we could even have reviews that have probability 0 for both classes."
   ]
  },
  {
   "cell_type": "markdown",
   "metadata": {
    "id": "gsZRhaI3WvzC"
   },
   "source": [
    "#### (Q3.2) Train your classifier on (positive and negative) reviews with cv-value 000-899, and test it on the remaining (positive and negative) reviews cv900–cv999.  Report results using classification accuracy as your evaluation metric. Your  features are the word vocabulary. The value of a feature is the count of that feature (word) in the document. (2pts)\n"
   ]
  },
  {
   "cell_type": "code",
   "execution_count": 16,
   "metadata": {
    "id": "G7zaJYGFvIJ3"
   },
   "outputs": [],
   "source": [
    "def create_whole_review(content):\n",
    "    whole_review = []\n",
    "    for sentence in content:\n",
    "        whole_review += [word.lower() for word in np.array(sentence)[:, 0]]\n",
    "    return whole_review\n",
    "\n",
    "def create_dataset_cv(reviews):\n",
    "    targets = []\n",
    "    sentences = []\n",
    "    cvs = []\n",
    "\n",
    "    for review in reviews:\n",
    "        cvs.append(int(review['cv']))\n",
    "        targets.append(int( review['sentiment'] == 'POS'))\n",
    "        whole_review = create_whole_review(review['content'])\n",
    "        sentences.append(whole_review)\n",
    "    return cvs, sentences, targets\n",
    "\n",
    "\n",
    "def split_dataset(reviews, split_index=900):\n",
    "    cvs, sentences, targets = create_dataset_cv(reviews)\n",
    "    train_sentences, train_targets = zip(*[(s, t) for (cv, s, t) in zip(cvs, sentences, targets) if cv < split_index])\n",
    "    test_sentences, test_targets = zip(*[(s, t) for (cv, s, t) in zip(cvs, sentences, targets) if cv >= split_index])\n",
    "    return np.array(train_sentences, dtype=object), np.array(train_targets), np.array(test_sentences, dtype=object), np.array(test_targets)\n",
    "    \n",
    "train_sentences, train_targets, test_sentences, test_targets = split_dataset(reviews)\n"
   ]
  },
  {
   "cell_type": "code",
   "execution_count": 51,
   "metadata": {},
   "outputs": [],
   "source": [
    "\n",
    "class NaiveBayesClassifier:\n",
    "    \n",
    "    def __init__(self, k=0):\n",
    "        self.log_likelihood = defaultdict(float)\n",
    "        self.log_prior = defaultdict(float)\n",
    "        self.voc = None\n",
    "        self.k = k\n",
    "    \n",
    "    def fit(self, sentences, targets):\n",
    "        '''\n",
    "            Fits the naive bayes classifier, given the sentences and the targets\n",
    "        '''\n",
    "        N = len(sentences)\n",
    "        log_N = np.log(N)\n",
    "        \n",
    "        # Count occurences of words\n",
    "        text = np.array([word for sentence in sentences for word in sentence], dtype=object)\n",
    "        self.voc, counts = np.unique(text, return_counts=True)\n",
    "        \n",
    "        # Collect counts\n",
    "        counts = []\n",
    "        \n",
    "        for c in [0, 1]:\n",
    "            # Set log prior\n",
    "            self.log_prior[c] = np.log(np.count_nonzero(targets == c)) - log_N\n",
    "            \n",
    "            # Count occurences of words in text belonging to this class\n",
    "            text = np.array([word for sentence in sentences[targets == c] for word in sentence], dtype=object)\n",
    "            unique, class_counts = np.unique(text, return_counts=True)\n",
    "            counts.append(defaultdict(int, dict(zip(unique, class_counts))))\n",
    "        \n",
    "        total_counts = {\n",
    "            0: np.sum([counts[0][w] + self.k if self.seen_by_both(w, counts) else 0 for w in self.voc]),\n",
    "            1: np.sum([counts[1][w] + self.k if self.seen_by_both(w, counts) else 0 for w in self.voc])\n",
    "        }\n",
    "        \n",
    "        # Compute log likelihood\n",
    "        for c in [0, 1]:\n",
    "            for word in self.voc:\n",
    "                self.log_likelihood[(word, c)] = np.log((counts[c][word] + self.k)) - np.log(total_counts[c]) if self.seen_by_both(word, counts) else 0\n",
    "    \n",
    "    def seen_by_both(self, word, counts):\n",
    "        '''\n",
    "        checks if a word is seen by both:\n",
    "        '''\n",
    "        return self.k > 0 or (counts[0][word] > 0 and counts[1][word] > 0)\n",
    "    \n",
    "    def predict(self, sentences):\n",
    "        '''\n",
    "            Predict the label of the given sentences\n",
    "        '''\n",
    "        return [self.predict_sentence(sentence) for sentence in sentences]\n",
    "    \n",
    "    def predict_sentence(self, sentence):\n",
    "        '''\n",
    "            Predicts the label of one sentence\n",
    "        '''\n",
    "        sum_c = [self.log_prior[0], self.log_prior[1]]\n",
    "        for c in [0, 1]:\n",
    "            for word in sentence:\n",
    "                ### Note that we implicitly use that words that did not appear do not count, by using a default dict\n",
    "                sum_c[c] += self.log_likelihood[(word, c)]\n",
    "        return np.argmax(sum_c)\n",
    "    \n",
    "    def reset(self):\n",
    "        '''\n",
    "            Resets the parameters of the classifier\n",
    "        '''\n",
    "        self.__init__(k=self.k)\n"
   ]
  },
  {
   "cell_type": "code",
   "execution_count": 18,
   "metadata": {},
   "outputs": [
    {
     "name": "stdout",
     "output_type": "stream",
     "text": [
      "Accuracy: 0.835\n"
     ]
    }
   ],
   "source": [
    "\n",
    "naive_bayes_model = NaiveBayesClassifier()\n",
    "naive_bayes_model.fit(train_sentences, train_targets)\n",
    "naive_bayes_predictions = naive_bayes_model.predict(test_sentences)\n",
    "\n",
    "naive_bayes_results = calculate_results(naive_bayes_predictions, test_targets)\n",
    "naive_bayes_accuracy = calculate_accuracy(naive_bayes_predictions, test_targets)\n",
    "print(\"Accuracy: {:.3f}\".format(naive_bayes_accuracy))"
   ]
  },
  {
   "cell_type": "markdown",
   "metadata": {
    "id": "0INK-PBoM6CB"
   },
   "source": [
    "#### (Q3.3) Would you consider accuracy to also be a good way to evaluate your classifier in a situation where 90% of your data instances are of positive movie reviews? (1pt)\n",
    "\n",
    "Simulate this scenario by keeping the positive reviews\n",
    "data unchanged, but only using negative reviews cv000–cv089 for\n",
    "training, and cv900–cv909 for testing. Calculate the classification\n",
    "accuracy, and explain what changed."
   ]
  },
  {
   "cell_type": "markdown",
   "metadata": {
    "id": "oFbcsYlipBAw"
   },
   "source": [
    "*Write your answer here.*\n",
    "## Answer\n",
    "No, accuracy would no longer be a good measure. If 90% of the data is positive, we would get a 90% accuracy with a model that always outputs positive. However, this is clearly not a good model. We should use a different metric for such cases.\n",
    "\n",
    "\n",
    "In our case, we would expect the log priors to be skewed towards positive data as this is now 90% of the data. This should result in more cases being classified at positive and thus in a higher accuracy, as our test data is mostly positive."
   ]
  },
  {
   "cell_type": "code",
   "execution_count": 19,
   "metadata": {
    "id": "GWDkt5ZrrFGp"
   },
   "outputs": [
    {
     "name": "stdout",
     "output_type": "stream",
     "text": [
      "990 990 110 110\n",
      "Accuracy: 0.891\n",
      "The log priors are: defaultdict(<class 'float'>, {0: -2.3978952727983707, 1: -0.09531017980432477})\n"
     ]
    }
   ],
   "source": [
    "\n",
    "def get_skewed_dataset(reviews, split_index=900, neg_train_range=list(range(90)), neg_test_range=list(range(900, 910))):\n",
    "    cvs, sentences, targets = create_dataset_cv(reviews)\n",
    "    train_sentences, train_targets = zip(*[(s, t) for (cv, s, t) in zip(cvs, sentences, targets) if cv < split_index and (t == 1 or cv in neg_train_range)])\n",
    "    test_sentences, test_targets = zip(*[(s, t) for (cv, s, t) in zip(cvs, sentences, targets) if cv >= split_index and (t == 1 or cv in neg_test_range)])\n",
    "    return np.array(train_sentences, dtype=object), np.array(train_targets), np.array(test_sentences, dtype=object), np.array(test_targets)\n",
    "\n",
    "\n",
    "train_sentences, train_targets, test_sentences, test_targets = get_skewed_dataset(reviews)\n",
    "print(len(train_sentences), len(train_targets), len(test_sentences), len(test_targets))\n",
    "\n",
    "naive_bayes_model = NaiveBayesClassifier()\n",
    "naive_bayes_model.fit(train_sentences, train_targets)\n",
    "naive_bayes_predictions = naive_bayes_model.predict(test_sentences)\n",
    "\n",
    "naive_bayes_results = calculate_results(naive_bayes_predictions, test_targets)\n",
    "naive_bayes_accuracy = calculate_accuracy(naive_bayes_predictions, test_targets)\n",
    "print(\"Accuracy: {:.3f}\".format(naive_bayes_accuracy))\n",
    "\n",
    "print(\"The log priors are: {}\".format(naive_bayes_model.log_prior))"
   ]
  },
  {
   "cell_type": "markdown",
   "metadata": {
    "id": "6wJzcHX3WUDm"
   },
   "source": [
    "## Smoothing (1.5pts)\n",
    "\n",
    "As mentioned above, the presence of words in the test dataset that\n",
    "have not been seen during training can cause probabilities in the Naive\n",
    "Bayes classifier to be $0$, thus making that particular test instance\n",
    "undecidable. The standard way to mitigate this effect (as well as to\n",
    "give more clout to rare words) is to use smoothing, in which the\n",
    "probability fraction\n",
    "$$\\frac{\\text{count}(w_i, c)}{\\sum\\limits_{w\\in V} \\text{count}(w, c)}$$ for a word\n",
    "$w_i$ becomes\n",
    "$$\\frac{\\text{count}(w_i, c) + \\text{smoothing}(w_i)}{\\sum\\limits_{w\\in V} \\text{count}(w, c) + \\sum\\limits_{w \\in V} \\text{smoothing}(w)}$$\n",
    "\n",
    "\n",
    "\n"
   ]
  },
  {
   "cell_type": "markdown",
   "metadata": {
    "id": "PBNIcbwUWphC"
   },
   "source": [
    "#### (Q3.4) Implement Laplace feature smoothing (1pt)\n",
    "Implement Laplace smoothing, i.e., smoothing with a constant value ($smoothing(w) = \\kappa, \\forall w \\in V$), in your Naive\n",
    "Bayes classifier’s code, and report the impact on performance. \n",
    "Use $\\kappa = 1$."
   ]
  },
  {
   "cell_type": "code",
   "execution_count": 20,
   "metadata": {
    "id": "g03yflCc9kpW"
   },
   "outputs": [
    {
     "name": "stdout",
     "output_type": "stream",
     "text": [
      "Accuracy: 0.825\n"
     ]
    }
   ],
   "source": [
    "train_sentences, train_targets, test_sentences, test_targets = split_dataset(reviews)\n",
    "\n",
    "naive_bayes_laplace_model = NaiveBayesClassifier(k=1)\n",
    "naive_bayes_laplace_model.fit(train_sentences, train_targets)\n",
    "\n",
    "naive_bayes_laplace_predictions = naive_bayes_laplace_model.predict(test_sentences)\n",
    "\n",
    "naive_bayes_laplace_results = calculate_results(naive_bayes_laplace_predictions, test_targets)\n",
    "naive_bayes_laplace_accuracy = calculate_accuracy(naive_bayes_laplace_predictions, test_targets)\n",
    "print(\"Accuracy: {:.3f}\".format(naive_bayes_laplace_accuracy))"
   ]
  },
  {
   "cell_type": "markdown",
   "metadata": {
    "id": "-conSBddWWyN"
   },
   "source": [
    "#### (Q3.5) Is the difference between non smoothed (Q3.2) and smoothed (Q3.4) statistically significant? (0.5pt)"
   ]
  },
  {
   "cell_type": "code",
   "execution_count": 21,
   "metadata": {
    "id": "CCvSNGlHMUPz"
   },
   "outputs": [
    {
     "name": "stdout",
     "output_type": "stream",
     "text": [
      "the difference is not significant\n",
      "p_value = 0.7750029828306243754409247403\n"
     ]
    }
   ],
   "source": [
    "p_value = sign_test(naive_bayes_results, naive_bayes_laplace_results)\n",
    "print(\"p_value =\", p_value)\n",
    "\n"
   ]
  },
  {
   "cell_type": "markdown",
   "metadata": {
    "id": "ZiGcgwba87D5"
   },
   "source": [
    "## Cross-Validation (1.5pts)\n",
    "\n",
    "A serious danger in using Machine Learning on small datasets, with many\n",
    "iterations of slightly different versions of the algorithms, is ending up with Type III errors, also called the “testing hypotheses\n",
    "suggested by the data” errors. This type of error occurs when we make\n",
    "repeated improvements to our classifiers by playing with features and\n",
    "their processing, but we don’t get a fresh, never-before seen test\n",
    "dataset every time. Thus, we risk developing a classifier that gets better\n",
    "and better on our data, but only gets worse at generalizing to new, unseen data. In other words, we risk developping a classifier that overfits.\n",
    "\n",
    "A simple method to guard against Type III errors is to use\n",
    "Cross-Validation. In **N-fold Cross-Validation**, we divide the data into N\n",
    "distinct chunks, or folds. Then, we repeat the experiment N times: each\n",
    "time holding out one of the folds for testing, training our classifier\n",
    "on the remaining N - 1 data folds, and reporting performance on the\n",
    "held-out fold. We can use different strategies for dividing the data:\n",
    "\n",
    "-   Consecutive splitting:\n",
    "  - cv000–cv099 = Split 1\n",
    "  - cv100–cv199 = Split 2\n",
    "  - etc.\n",
    "  \n",
    "-   Round-robin splitting (mod 10):\n",
    "  - cv000, cv010, cv020, … = Split 1\n",
    "  - cv001, cv011, cv021, … = Split 2\n",
    "  - etc.\n",
    "\n",
    "-   Random sampling/splitting\n",
    "  - Not used here (but you may choose to split this way in a non-educational situation)\n",
    "\n"
   ]
  },
  {
   "cell_type": "markdown",
   "metadata": {
    "id": "8OeLcbSauGtR"
   },
   "source": [
    "#### (Q3.6) Write the code to implement 10-fold cross-validation using round-robin splitting for your Naive Bayes classifier from Q3.2 and compute the 10 accuracies. Report the final performance, which is the average of the performances per fold. If all splits perform equally well, this is a good sign. (1pt)"
   ]
  },
  {
   "cell_type": "code",
   "execution_count": 53,
   "metadata": {
    "id": "3KeCGPa7Nuzx"
   },
   "outputs": [],
   "source": [
    "def get_folds(N):\n",
    "    '''\n",
    "        Provides 10 folds using round-robin splitting modulo 10 in the form of indices\n",
    "        given the length of the dataset.\n",
    "    '''\n",
    "    return [np.array(range(i, N, 10)) for i in range(10)]\n",
    "\n",
    "def perform_cross_validation(model, data, transform=None, transform_args={}, stemmer=None):\n",
    "    '''\n",
    "        Performs cross validation using the given model on the given reviews\n",
    "        \n",
    "        model should have a fit, reset and predict function\n",
    "        transform should take sentences as first positional argument\n",
    "        Returns a list of predictions and accuracies for each test fold\n",
    "    '''\n",
    "\n",
    "    # Preprocess data\n",
    "    \n",
    "    CVs, sentences, targets = create_dataset_cv(data)\n",
    "\n",
    "    if stemmer:\n",
    "        sentences = stemmer(sentences)\n",
    "    \n",
    "    if transform:\n",
    "        sentences = transform(sentences, **transform_args)\n",
    "\n",
    "    # Get the folds we wish to use (as list of lists of indices)\n",
    "    folds = get_folds(max(CVs))\n",
    "\n",
    "    accuracies = []\n",
    "    all_predictions = []\n",
    "\n",
    "    for fold in folds:\n",
    "        # Get training data, all data with CV values not in the fold\n",
    "        train_sentences, train_targets = zip(*[(s, t) for (cv, s, t) in zip(CVs, sentences, targets) if cv not in fold])\n",
    "        train_sentences, train_targets = np.array(train_sentences, dtype=object), np.array(train_targets)\n",
    "\n",
    "        # Get testing data, all data with CV values in the fold\n",
    "        test_sentences, test_targets = zip(*[(s, t) for (cv, s, t) in zip(CVs, sentences, targets) if cv in fold])\n",
    "        test_sentences, test_targets = np.array(test_sentences, dtype=object), np.array(test_targets)\n",
    "\n",
    "        # Train classifier and measure performace\n",
    "        model.reset()\n",
    "        model.fit(train_sentences, train_targets)\n",
    "\n",
    "        predictions = model.predict(test_sentences)\n",
    "        all_predictions += predictions\n",
    "        \n",
    "        results = calculate_results(predictions, test_targets)\n",
    "        accuracy = calculate_accuracy(predictions, test_targets)\n",
    "        accuracies.append(accuracy)\n",
    "    return all_predictions, accuracies\n"
   ]
  },
  {
   "cell_type": "code",
   "execution_count": 23,
   "metadata": {},
   "outputs": [
    {
     "name": "stdout",
     "output_type": "stream",
     "text": [
      "[0.79, 0.835, 0.805, 0.825, 0.78, 0.845, 0.83, 0.775, 0.83, 0.8383838383838383]\n",
      "Final performance: 0.815\n"
     ]
    }
   ],
   "source": [
    "model = NaiveBayesClassifier(k=1)\n",
    "unstemmed_predictions, unstemmed_accuracies = perform_cross_validation(model, reviews)\n",
    "print(unstemmed_accuracies)\n",
    "print(\"Final performance: {:.3f}\".format(np.mean(unstemmed_accuracies)))"
   ]
  },
  {
   "cell_type": "markdown",
   "metadata": {
    "id": "otdlsDXBNyOa"
   },
   "source": [
    "#### (Q3.7) Write code to calculate and report the variance of the 10 accuracy scores, in addition to the final performance. You must not use a library, such as numpy. (0.5pt)\n",
    "\n",
    "**Please report all future results using 10-fold cross-validation now\n",
    "(unless told to use the held-out test set).**"
   ]
  },
  {
   "cell_type": "code",
   "execution_count": 24,
   "metadata": {
    "id": "ZoBQm1KuNzNR"
   },
   "outputs": [
    {
     "name": "stdout",
     "output_type": "stream",
     "text": [
      "The standard deviation of the accuracies is 0.024\n",
      "The final performance is: 0.815\n"
     ]
    }
   ],
   "source": [
    "def mean(scores):\n",
    "    '''\n",
    "        Returns the mean of the given scores\n",
    "    '''\n",
    "    return sum(scores) / len(scores)\n",
    "\n",
    "def std(scores):\n",
    "    '''\n",
    "        Returns the standard deviation of the given scores.\n",
    "    '''\n",
    "    N = len(scores)\n",
    "    mu = sum(scores) / N\n",
    "    return (sum((x - mu) ** 2 for x in scores) / N) ** (1 / 2)\n",
    "\n",
    "print(\"The standard deviation of the accuracies is {:.3f}\".format(std(unstemmed_accuracies)))\n",
    "print(\"The final performance is: {:.3f}\".format(mean(unstemmed_accuracies)))\n",
    "# print(np.std(accuracies)) # As a sanity check\n"
   ]
  },
  {
   "cell_type": "markdown",
   "metadata": {
    "id": "s6A2zX9_BRKm"
   },
   "source": [
    "## Features, overfitting, and the curse of dimensionality\n",
    "\n",
    "In the Bag-of-Words model, ideally we would like each distinct word in\n",
    "the text to be mapped to its own dimension in the output vector\n",
    "representation. However, real world text is messy, and we need to decide\n",
    "on what we consider to be a word. For example, is “`word`\" different\n",
    "from “`Word`\", from “`word`”, or from “`words`\"? Too strict a\n",
    "definition, and the number of features explodes, while our algorithm\n",
    "fails to learn anything generalisable. Too lax, and we risk destroying\n",
    "our learning signal. In the following section, you will learn about\n",
    "confronting the feature sparsity and the overfitting problems as they\n",
    "occur in NLP classification tasks."
   ]
  },
  {
   "cell_type": "markdown",
   "metadata": {
    "id": "EKK8FNt8VtcZ"
   },
   "source": [
    "### Stemming (1.5pts)\n",
    "\n",
    "To make your algorithm more robust, use stemming and\n",
    "hash different inflections of a word to the same feature in the BoW\n",
    "vector space. How does the performance of your classifier change when\n",
    "you use stemming on your training and test datasets? Please use the [Porter stemming\n",
    "    algorithm](http://www.nltk.org/howto/stem.html) from NLTK.\n",
    "\n",
    "You should also perform cross-validation. Concatenate the predictions from all folds to compute the significance."
   ]
  },
  {
   "cell_type": "code",
   "execution_count": 25,
   "metadata": {
    "id": "NxtCul1IrBi_"
   },
   "outputs": [],
   "source": [
    "# YOUR CODE HERE\n",
    "from nltk.stem.porter import *\n",
    "\n",
    "def porter_stemmer(sentences):\n",
    "    '''\n",
    "        Applies porter stemmer to all words in the sentences using a look-up table\n",
    "    '''\n",
    "    stemmer = PorterStemmer()\n",
    "    stem_dict = {}\n",
    "    for i, sentence in enumerate(sentences):\n",
    "        for j, word in enumerate(sentence):\n",
    "            if word not in stem_dict:\n",
    "                stem_dict[word] = stemmer.stem(word)\n",
    "            sentences[i][j] = stem_dict[word]\n",
    "    return sentences\n",
    "\n"
   ]
  },
  {
   "cell_type": "code",
   "execution_count": 26,
   "metadata": {},
   "outputs": [
    {
     "name": "stdout",
     "output_type": "stream",
     "text": [
      "[0.78, 0.84, 0.805, 0.84, 0.775, 0.84, 0.82, 0.775, 0.83, 0.8282828282828283]\n",
      "Final performance: 0.813\n"
     ]
    }
   ],
   "source": [
    "model = NaiveBayesClassifier(k=1)\n",
    "stemmed_predictions, stemmed_accuracies = perform_cross_validation(model, reviews, stemmer=porter_stemmer)\n",
    "print(stemmed_accuracies)\n",
    "print(\"Final performance: {:.3f}\".format(np.mean(stemmed_accuracies)))"
   ]
  },
  {
   "cell_type": "markdown",
   "metadata": {
    "id": "6SrJ1BeLXTnk"
   },
   "source": [
    "#### (Q3.9): Is the difference between NB with smoothing and NB with smoothing+stemming significant? (1pt)\n"
   ]
  },
  {
   "cell_type": "code",
   "execution_count": 27,
   "metadata": {
    "id": "gYqKBOiIrInT"
   },
   "outputs": [
    {
     "name": "stdout",
     "output_type": "stream",
     "text": [
      "the difference is not significant\n",
      "p_value = 0.9109385898228188782141514259\n"
     ]
    }
   ],
   "source": [
    "p_value = sign_test(stemmed_predictions, unstemmed_predictions)\n",
    "print(\"p_value =\", p_value)"
   ]
  },
  {
   "cell_type": "markdown",
   "metadata": {
    "id": "JkDHVq_1XUVP"
   },
   "source": [
    "#### (Q3.10) What happens to the number of features (i.e., the size of the vocabulary) when using stemming as opposed to (Q3.4)? (0.5pt)\n",
    "Give actual numbers. You can use the held-out training set to determine these."
   ]
  },
  {
   "cell_type": "code",
   "execution_count": 37,
   "metadata": {
    "id": "MA3vee5-rJyy"
   },
   "outputs": [
    {
     "name": "stdout",
     "output_type": "stream",
     "text": [
      "Unstemmed features: 45348\n",
      "Stemmed features: 32404\n"
     ]
    }
   ],
   "source": [
    "train_sentences, train_targets, test_sentences, test_targets = split_dataset(reviews)\n",
    "\n",
    "unstemmed_model = NaiveBayesClassifier(k=1)\n",
    "unstemmed_model.fit(train_sentences, train_targets)\n",
    "print(\"Unstemmed features: {}\".format(len(unstemmed_model.voc)))\n",
    "\n",
    "stemmed_train_sentences = porter_stemmer(train_sentences)\n",
    "stemmed_model = NaiveBayesClassifier(k=1)\n",
    "stemmed_model.fit(stemmed_train_sentences, train_targets)\n",
    "print(\"Stemmed features: {}\".format(len(stemmed_model.voc)))\n"
   ]
  },
  {
   "cell_type": "code",
   "execution_count": 38,
   "metadata": {
    "id": "MA3vee5-rJyy"
   },
   "outputs": [
    {
     "name": "stdout",
     "output_type": "stream",
     "text": [
      "So the number of feateures has decreased by 12944\n"
     ]
    }
   ],
   "source": [
    "print(\"So the number of feateures has decreased by {}\".format(len(unstemmed_model.voc) - len(stemmed_model.voc)))"
   ]
  },
  {
   "cell_type": "markdown",
   "metadata": {
    "id": "SoazfxbNV5Lq"
   },
   "source": [
    "### N-grams (1.5pts)\n",
    "\n",
    "A simple way of retaining some of the word\n",
    "order information when using bag-of-words representations is to add **n-gram** features. \n",
    "\n",
    "\n",
    "\n",
    "\n"
   ]
  },
  {
   "cell_type": "markdown",
   "metadata": {
    "id": "OHjy3I7-qWiu"
   },
   "source": [
    "#### (Q3.11) Retrain your classifier from (Q3.4) using **unigrams+bigrams** and **unigrams+bigrams+trigrams** as features. (1pt)\n",
    "Report accuracy and statistical significances (in comparison to the experiment at (Q3.6) for all 10 folds, and between the new systems). You are allowed to use NLTK to build n-grams from sentences."
   ]
  },
  {
   "cell_type": "code",
   "execution_count": 47,
   "metadata": {
    "id": "eYuKMTOpq9jz"
   },
   "outputs": [],
   "source": [
    "from nltk import ngrams\n",
    "\n",
    "def to_n_grams(sentences, ns=[1]):\n",
    "    result = []\n",
    "    for sentence in sentences:\n",
    "        temp = []\n",
    "        for n in ns:\n",
    "            temp += ngrams(sentence, n)\n",
    "        result.append(temp)\n",
    "    return result\n"
   ]
  },
  {
   "cell_type": "code",
   "execution_count": 52,
   "metadata": {},
   "outputs": [],
   "source": [
    "model = NaiveBayesClassifier(k=1)\n",
    "uni_bi_gram_predictions, uni_bi_gram_accuracies = perform_cross_validation(model, \n",
    "                                                                           reviews,\n",
    "                                                                           transform=to_n_grams, \n",
    "                                                                           transform_args={'ns':[1, 2]})"
   ]
  },
  {
   "cell_type": "code",
   "execution_count": 54,
   "metadata": {},
   "outputs": [
    {
     "name": "stdout",
     "output_type": "stream",
     "text": [
      "Final performance unigrams+bigrams: 0.837\n"
     ]
    }
   ],
   "source": [
    "print(\"Final performance unigrams+bigrams: {:.3f}\".format(np.mean(uni_bi_gram_accuracies)))"
   ]
  },
  {
   "cell_type": "code",
   "execution_count": null,
   "metadata": {},
   "outputs": [],
   "source": [
    "model = NaiveBayesClassifier(k=1)\n",
    "uni_bi_tri_gram_predictions, uni_bi_tri_gram_accuracies = perform_cross_validation(model, \n",
    "                                                                                   reviews,\n",
    "                                                                                   transform=to_n_grams, \n",
    "                                                                                   transform_args={'ns':[1,2,3]})"
   ]
  },
  {
   "cell_type": "code",
   "execution_count": 45,
   "metadata": {},
   "outputs": [
    {
     "name": "stdout",
     "output_type": "stream",
     "text": [
      "Final performance unigrams+bigrams+trigrams: 0.834\n"
     ]
    }
   ],
   "source": [
    "print(\"Final performance unigrams+bigrams+trigrams: {:.3f}\".format(np.mean(uni_bi_tri_gram_accuracies)))"
   ]
  },
  {
   "cell_type": "markdown",
   "metadata": {
    "id": "dVrGGArkrWoL"
   },
   "source": [
    "\n",
    "#### Q3.12: How many features does the BoW model have to take into account now? (0.5pt)\n",
    "How would you expect the number of features to increase theoretically (e.g., linear, square, cubed, exponential)? How does this number compare, in practice, to the number of features at (Q3.10)?\n",
    "\n",
    "Use the held-out training set once again for this.\n"
   ]
  },
  {
   "cell_type": "markdown",
   "metadata": {
    "id": "yEGZ9SV8pPaa"
   },
   "source": [
    "*Write your answer here.*\n",
    "## Answer\n",
    "Theoretically I expect the number of features to increase from $V$ to something in the order of $V^n$ where $n$ is the order of the highest n-gram we use. This follows from the number of possible $n$ grams. In practice it should be much less due to many combinations of words not occuring in our text."
   ]
  },
  {
   "cell_type": "code",
   "execution_count": null,
   "metadata": {
    "id": "_z8sAJeUrdtM"
   },
   "outputs": [],
   "source": [
    "train_sentences, train_targets, test_sentences, test_targets = split_dataset(reviews)\n",
    "train_sentences = to_n_grams(train_sentences, ns=[1,2])\n",
    "\n",
    "unstemmed_model = NaiveBayesClassifier(k=1)\n",
    "unstemmed_model.fit(train_sentences, train_targets)\n",
    "print(\"Unstemmed features for unigrams+bigrams: {}\".format(len(unstemmed_model.voc)))"
   ]
  },
  {
   "cell_type": "code",
   "execution_count": null,
   "metadata": {
    "id": "_z8sAJeUrdtM"
   },
   "outputs": [],
   "source": [
    "train_sentences, train_targets, test_sentences, test_targets = split_dataset(reviews)\n",
    "train_sentences = to_n_grams(train_sentences, ns=[1,2,3])\n",
    "\n",
    "unstemmed_model = NaiveBayesClassifier(k=1)\n",
    "unstemmed_model.fit(train_sentences, train_targets)\n",
    "print(\"Unstemmed features for unigrams+bigrams+trigrams: {}\".format(len(unstemmed_model.voc)))"
   ]
  },
  {
   "cell_type": "markdown",
   "metadata": {
    "id": "CHWKDL3YV6vh"
   },
   "source": [
    "# Support Vector Machines (4pts)"
   ]
  },
  {
   "cell_type": "markdown",
   "metadata": {
    "id": "hJSYhcVaoJGt"
   },
   "source": [
    "Though simple to understand, implement, and debug, one\n",
    "major problem with the Naive Bayes classifier is that its performance\n",
    "deteriorates (becomes skewed) when it is being used with features which\n",
    "are not independent (i.e., are correlated). Another popular classifier\n",
    "that doesn’t scale as well to big data, and is not as simple to debug as\n",
    "Naive Bayes, but that doesn’t assume feature independence is the Support\n",
    "Vector Machine (SVM) classifier.\n",
    "\n",
    "You can find more details about SVMs in Chapter 7 of Bishop: Pattern Recognition and Machine Learning.\n",
    "Other sources for learning SVM:\n",
    "* http://web.mit.edu/zoya/www/SVM.pdf\n",
    "* http://www.cs.columbia.edu/~kathy/cs4701/documents/jason_svm_tutorial.pdf\n",
    "* https://pythonprogramming.net/support-vector-machine-intro-machine-learning-tutorial/\n",
    "\n",
    "\n",
    "\n",
    "\n",
    "\n",
    "\n",
    "\n",
    "Use the scikit-learn implementation of \n",
    "[SVM](http://scikit-learn.org/stable/modules/svm.html) with the default parameters. (You are not expected to perform any hyperparameter tuning, but feel free to do it if you think it gives you good insights for the discussion in question 5.)\n",
    "\n"
   ]
  },
  {
   "cell_type": "markdown",
   "metadata": {
    "id": "0LnzNtQBV8gr"
   },
   "source": [
    "#### (Q4.1): Train SVM and compare to Naive Bayes (2pts)\n",
    "\n",
    "Train an SVM classifier (sklearn.svm.LinearSVC) using your features. Compare the\n",
    "classification performance of the SVM classifier to that of the Naive\n",
    "Bayes classifier with smoothing from (Q3.6) and report the numbers.\n",
    "Perform cross-validation and concatenate the predictions from all folds to compute the significance.  Are the results significantly better?\n",
    "\n"
   ]
  },
  {
   "cell_type": "code",
   "execution_count": null,
   "metadata": {
    "id": "JBscui8Mvoz0"
   },
   "outputs": [],
   "source": [
    "# YOUR CODE HERE"
   ]
  },
  {
   "cell_type": "markdown",
   "metadata": {
    "id": "ifXVWcK0V9qY"
   },
   "source": [
    "### POS disambiguation (2pts)\n",
    "\n",
    "Now add in part-of-speech features. You will find the\n",
    "movie review dataset has already been POS-tagged for you ([here](https://catalog.ldc.upenn.edu/docs/LDC99T42/tagguid1.pdf) you find the tagset). Try to\n",
    "replicate the results obtained by Pang et al. (2002).\n",
    "\n"
   ]
  },
  {
   "cell_type": "markdown",
   "metadata": {
    "id": "xA3I82o4oWGu"
   },
   "source": [
    "####(Q4.2) Replace your features with word+POS features, and report performance with the SVM. Does this help? Perform cross-validation and concatenate the predictions from all folds to compute the significance. Are the results significant? *Why?*  (1pt)\n"
   ]
  },
  {
   "cell_type": "code",
   "execution_count": null,
   "metadata": {
    "id": "NOvjYe-t2Br6"
   },
   "outputs": [],
   "source": [
    "# YOUR CODE HERE"
   ]
  },
  {
   "cell_type": "markdown",
   "metadata": {
    "id": "L0dt_oQupUNe"
   },
   "source": [
    "*Write your answer here.*"
   ]
  },
  {
   "cell_type": "markdown",
   "metadata": {
    "id": "Su-3w87eMW0w"
   },
   "source": [
    "#### (Q4.3) Discard all closed-class words from your data (keep only nouns, verbs, adjectives, and adverbs), and report performance. Does this help? Perform cross-validation and concatenate the predictions from all folds to compute the significance. Are the results significantly better than when we don't discard the closed-class words? *Why?* (1pt)"
   ]
  },
  {
   "cell_type": "code",
   "execution_count": null,
   "metadata": {
    "id": "CCUPlPozCYUX"
   },
   "outputs": [],
   "source": [
    "# YOUR CODE HERE"
   ]
  },
  {
   "cell_type": "markdown",
   "metadata": {
    "id": "YaxCVrs8pWSp"
   },
   "source": [
    "*Write your answer here.*"
   ]
  },
  {
   "cell_type": "markdown",
   "metadata": {
    "id": "nfwqOciAl2No"
   },
   "source": [
    "# (Q5) Discussion (max. 500 words). (5pts)\n",
    "\n",
    "> Based on your experiments, what are the effective features and techniques in sentiment analysis? What information do different features encode?\n",
    "Why is this important? What are the limitations of these features and techniques?\n",
    " \n"
   ]
  },
  {
   "cell_type": "markdown",
   "metadata": {
    "id": "ZYuse5WLmekZ"
   },
   "source": [
    "*Write your answer here in up to 500 words (-0.25pt for >50 extra words, -0.5 points for >100 extra words, ...)*.\n"
   ]
  },
  {
   "cell_type": "markdown",
   "metadata": {
    "id": "iwaKwfWQhRk_"
   },
   "source": [
    "# Submission \n"
   ]
  },
  {
   "cell_type": "code",
   "execution_count": null,
   "metadata": {
    "id": "aOUeaET5ijk-"
   },
   "outputs": [],
   "source": [
    "# Write your names and student numbers here:\n",
    "# Student 1 #12345\n",
    "# Student 2 #12345"
   ]
  },
  {
   "cell_type": "markdown",
   "metadata": {
    "id": "3A9K-H6Tii3X"
   },
   "source": [
    "**That's it!**\n",
    "\n",
    "- Check if you answered all questions fully and correctly. \n",
    "- Download your completed notebook using `File -> Download .ipynb` \n",
    "- Check if your answers are all included in the file you submit.\n",
    "- Submit your .ipynb file via *Canvas*. One submission per group. "
   ]
  },
  {
   "cell_type": "code",
   "execution_count": null,
   "metadata": {
    "id": "YHslatYAKBrF"
   },
   "outputs": [],
   "source": []
  }
 ],
 "metadata": {
  "colab": {
   "collapsed_sections": [
    "uhU_tk-BOaXb"
   ],
   "name": "NLP1 2020 Practical 1 (student version)",
   "provenance": [],
   "toc_visible": true
  },
  "kernelspec": {
   "display_name": "nlp1",
   "language": "python",
   "name": "nlp1"
  },
  "language_info": {
   "codemirror_mode": {
    "name": "ipython",
    "version": 3
   },
   "file_extension": ".py",
   "mimetype": "text/x-python",
   "name": "python",
   "nbconvert_exporter": "python",
   "pygments_lexer": "ipython3",
   "version": "3.7.9"
  }
 },
 "nbformat": 4,
 "nbformat_minor": 4
}
