{
 "cells": [
  {
   "cell_type": "code",
   "execution_count": 28,
   "metadata": {},
   "outputs": [],
   "source": [
    "flatten = lambda t: [item for sublist in t for item in sublist]\n",
    "sentences = [\n",
    "    \"s the green bottle leaked .\",\n",
    "    \"s the suppliers bottle water .\",\n",
    "    \"s green water suppliers bottle .\",\n",
    "]\n",
    "\n",
    "sentences = [sentence.split() for sentence in sentences]\n",
    "tags = [\n",
    "    \"S DTO AJO NN1 VVD PUN\",\n",
    "    \"S DTO NN2 VVB NN1 PUN\",\n",
    "    \"S AJO NN1 NN2 VVB PUN\",\n",
    "]\n",
    "tags = [tag.split() for tag in tags]\n",
    "flat_tags = flatten(tags)\n",
    "flat_sentences = flatten(sentences)\n",
    "voc = set(flatten(tags))"
   ]
  },
  {
   "cell_type": "code",
   "execution_count": 77,
   "metadata": {},
   "outputs": [
    {
     "name": "stdout",
     "output_type": "stream",
     "text": [
      "[[('DTO', 'S'), ('AJO', 'DTO'), ('NN1', 'AJO'), ('VVD', 'NN1'), ('PUN', 'VVD')], [('DTO', 'S'), ('NN2', 'DTO'), ('VVB', 'NN2'), ('NN1', 'VVB'), ('PUN', 'NN1')], [('AJO', 'S'), ('NN1', 'AJO'), ('NN2', 'NN1'), ('VVB', 'NN2'), ('PUN', 'VVB')]]\n"
     ]
    }
   ],
   "source": [
    "to_bigram = lambda x: [(t_1, t_2) for t_1, t_2 in zip(x[1:], x[:-1] )]\n",
    "bigram_tags = [to_bigram(tag) for tag in tags]\n",
    "\n",
    "print(bigram_tags)\n",
    "\n"
   ]
  },
  {
   "cell_type": "code",
   "execution_count": 78,
   "metadata": {},
   "outputs": [],
   "source": [
    "### Get the counts\n",
    "from collections import Counter, defaultdict\n",
    "flat_bigram_tags = []\n",
    "for tag in bigram_tags:\n",
    "    flat_bigram_tags += tag\n",
    "bigram_count = Counter(flat_bigram_tags)"
   ]
  },
  {
   "cell_type": "code",
   "execution_count": 124,
   "metadata": {},
   "outputs": [
    {
     "name": "stdout",
     "output_type": "stream",
     "text": [
      "defaultdict(<class 'float'>, {('DTO', 'S'): 0.6666666666666666, ('AJO', 'DTO'): 0.5, ('NN1', 'AJO'): 1.0, ('VVD', 'NN1'): 0.3333333333333333, ('PUN', 'VVD'): 1.0, ('NN2', 'DTO'): 0.5, ('VVB', 'NN2'): 1.0, ('NN1', 'VVB'): 0.5, ('PUN', 'NN1'): 0.3333333333333333, ('AJO', 'S'): 0.3333333333333333, ('NN2', 'NN1'): 0.3333333333333333, ('PUN', 'VVB'): 0.5})\n"
     ]
    }
   ],
   "source": [
    "### Get the probabilities:\n",
    "bigram_probs = defaultdict(float)\n",
    "total_counts = defaultdict(float)\n",
    "for item, count in bigram_count.items():\n",
    "    total_counts[item[1]] += count\n",
    "\n",
    "for item, count in bigram_count.items():\n",
    "    bigram_probs[item] = count / total_counts[item[1]]\n",
    "print(bigram_probs)\n"
   ]
  },
  {
   "cell_type": "code",
   "execution_count": 125,
   "metadata": {},
   "outputs": [
    {
     "name": "stdout",
     "output_type": "stream",
     "text": [
      "[('s', 'S'), ('the', 'DTO'), ('green', 'AJO'), ('bottle', 'NN1'), ('leaked', 'VVD'), ('.', 'PUN'), ('s', 'S'), ('the', 'DTO'), ('suppliers', 'NN2'), ('bottle', 'VVB'), ('water', 'NN1'), ('.', 'PUN'), ('s', 'S'), ('green', 'AJO'), ('water', 'NN1'), ('suppliers', 'NN2'), ('bottle', 'VVB'), ('.', 'PUN')]\n"
     ]
    }
   ],
   "source": [
    "### Get the word probabilites\n",
    "\n",
    "word_tag_pairs = [(word, tag) for word, tag in zip(flat_sentences, flat_tags)]\n",
    "print(word_tag_pairs)"
   ]
  },
  {
   "cell_type": "code",
   "execution_count": 126,
   "metadata": {},
   "outputs": [],
   "source": [
    "word_tag_count = Counter(word_tag_pairs)"
   ]
  },
  {
   "cell_type": "code",
   "execution_count": 127,
   "metadata": {},
   "outputs": [
    {
     "name": "stdout",
     "output_type": "stream",
     "text": [
      "defaultdict(<class 'float'>, {('s', 'S'): 1.0, ('the', 'DTO'): 1.0, ('green', 'AJO'): 1.0, ('bottle', 'NN1'): 0.3333333333333333, ('leaked', 'VVD'): 1.0, ('.', 'PUN'): 1.0, ('suppliers', 'NN2'): 1.0, ('bottle', 'VVB'): 1.0, ('water', 'NN1'): 0.6666666666666666})\n"
     ]
    }
   ],
   "source": [
    "### Get the probabilities:\n",
    "word_tag_probs = defaultdict(float)\n",
    "\n",
    "total_counts = defaultdict(float)\n",
    "for item, count in word_tag_count.items():\n",
    "    total_counts[item[1]] += count\n",
    "\n",
    "for (word, tag) in word_tag_pairs:\n",
    "    word_tag_probs[(word, tag)] = word_tag_count[(word, tag)] / total_counts[tag]\n",
    "print(word_tag_probs)"
   ]
  },
  {
   "cell_type": "code",
   "execution_count": 130,
   "metadata": {},
   "outputs": [],
   "source": [
    "### Lastly calculate the probabilities of a sentence\n",
    "def calc_prob(s, t, bigram_probs, word_tag_probs):\n",
    "    word_tag_pairs = [(word, tag) for word, tag in zip(s, t)]\n",
    "    bigram = to_bigram(t)\n",
    "    total = 1\n",
    "    sentence= \"\"\n",
    "    written_out = \"\"\n",
    "    for pair, bigram in zip(word_tag_pairs, bigram):\n",
    "        sentence += \" P({}|{}) P({}|{})\".format(pair[0], pair[1], bigram[0], bigram[1])\n",
    "        written_out += \"{:.2f} \\cdot {:.2f} \\cdot \".format(word_tag_probs[pair], bigram_probs[bigram] )\n",
    "\n",
    "        total *= word_tag_probs[pair] * bigram_probs[bigram]\n",
    "        \n",
    "    final_sentence = \"P({}| {}) \\n  = $$ \\cdot$$   {}  \\n  = $$ 3 \\cdot  {} $$  \\n \\n $$ \\\\approx {:.2f}$$\".format(\" \".join(t), \" \".join(s), sentence, written_out, total)\n",
    "    print(final_sentence)\n",
    "    return total\n",
    "    "
   ]
  },
  {
   "cell_type": "code",
   "execution_count": 131,
   "metadata": {},
   "outputs": [
    {
     "name": "stdout",
     "output_type": "stream",
     "text": [
      "P(S DTO AJO NN1 VVD PUN| s the green bottle leaked .) \n",
      "  = $$ \\cdot$$    P(s|S) P(DTO|S) P(the|DTO) P(AJO|DTO) P(green|AJO) P(NN1|AJO) P(bottle|NN1) P(VVD|NN1) P(leaked|VVD) P(PUN|VVD)  \n",
      "  = $$ 3 \\cdot  1.00 \\cdot 0.67 \\cdot 1.00 \\cdot 0.50 \\cdot 1.00 \\cdot 1.00 \\cdot 0.33 \\cdot 0.33 \\cdot 1.00 \\cdot 1.00 \\cdot  $$  \n",
      " \n",
      " $$ \\approx 0.04$$\n",
      "P(S DTO NN2 VVB NN1 PUN| s the suppliers bottle water .) \n",
      "  = $$ \\cdot$$    P(s|S) P(DTO|S) P(the|DTO) P(NN2|DTO) P(suppliers|NN2) P(VVB|NN2) P(bottle|VVB) P(NN1|VVB) P(water|NN1) P(PUN|NN1)  \n",
      "  = $$ 3 \\cdot  1.00 \\cdot 0.67 \\cdot 1.00 \\cdot 0.50 \\cdot 1.00 \\cdot 1.00 \\cdot 1.00 \\cdot 0.50 \\cdot 0.67 \\cdot 0.33 \\cdot  $$  \n",
      " \n",
      " $$ \\approx 0.04$$\n",
      "P(S AJO NN1 NN2 VVB PUN| s green water suppliers bottle .) \n",
      "  = $$ \\cdot$$    P(s|S) P(AJO|S) P(green|AJO) P(NN1|AJO) P(water|NN1) P(NN2|NN1) P(suppliers|NN2) P(VVB|NN2) P(bottle|VVB) P(PUN|VVB)  \n",
      "  = $$ 3 \\cdot  1.00 \\cdot 0.33 \\cdot 1.00 \\cdot 1.00 \\cdot 0.67 \\cdot 0.33 \\cdot 1.00 \\cdot 1.00 \\cdot 1.00 \\cdot 0.50 \\cdot  $$  \n",
      " \n",
      " $$ \\approx 0.04$$\n",
      "[0.037037037037037035, 0.037037037037037035, 0.037037037037037035]\n"
     ]
    }
   ],
   "source": [
    "result = [calc_prob(s, t,  bigram_probs, word_tag_probs ) for  s, t in zip(sentences, tags)]\n",
    "\n",
    "print(  result)"
   ]
  },
  {
   "cell_type": "code",
   "execution_count": null,
   "metadata": {},
   "outputs": [],
   "source": []
  }
 ],
 "metadata": {
  "kernelspec": {
   "display_name": "Python 3",
   "language": "python",
   "name": "python3"
  },
  "language_info": {
   "codemirror_mode": {
    "name": "ipython",
    "version": 3
   },
   "file_extension": ".py",
   "mimetype": "text/x-python",
   "name": "python",
   "nbconvert_exporter": "python",
   "pygments_lexer": "ipython3",
   "version": "3.7.9"
  }
 },
 "nbformat": 4,
 "nbformat_minor": 4
}
